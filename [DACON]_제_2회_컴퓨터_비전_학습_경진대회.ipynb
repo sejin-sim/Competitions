{
  "nbformat": 4,
  "nbformat_minor": 0,
  "metadata": {
    "accelerator": "GPU",
    "colab": {
      "name": "[DACON] 제 2회 컴퓨터 비전 학습 경진대회.ipynb",
      "provenance": [],
      "collapsed_sections": [],
      "machine_shape": "hm",
      "mount_file_id": "188xmLm1aTuXtduaZds_xiRRFT-n3OUsw",
      "authorship_tag": "ABX9TyOXK3Mo4XOJcGRQHF77Tq0l",
      "include_colab_link": true
    },
    "kernelspec": {
      "display_name": "Python 3",
      "name": "python3"
    }
  },
  "cells": [
    {
      "cell_type": "markdown",
      "metadata": {
        "id": "view-in-github",
        "colab_type": "text"
      },
      "source": [
        "<a href=\"https://colab.research.google.com/github/sejin-sim/Competitions/blob/main/%5BDACON%5D_%EC%A0%9C_2%ED%9A%8C_%EC%BB%B4%ED%93%A8%ED%84%B0_%EB%B9%84%EC%A0%84_%ED%95%99%EC%8A%B5_%EA%B2%BD%EC%A7%84%EB%8C%80%ED%9A%8C.ipynb\" target=\"_parent\"><img src=\"https://colab.research.google.com/assets/colab-badge.svg\" alt=\"Open In Colab\"/></a>"
      ]
    },
    {
      "cell_type": "markdown",
      "metadata": {
        "id": "m_Ify48FmQdd"
      },
      "source": [
        "https://dacon.io/competitions/official/235697/overview/"
      ]
    },
    {
      "cell_type": "markdown",
      "metadata": {
        "id": "uj0cuXw2iHbL"
      },
      "source": [
        "## resnet101 training"
      ]
    },
    {
      "cell_type": "code",
      "metadata": {
        "id": "qquzoGj9nM7g"
      },
      "source": [
        "from google.colab import output\r\n",
        "# !cp 파일1 파일2 # 파일1을 파일2로 복사 붙여넣기\r\n",
        "!cp \"/content/drive/MyDrive/스터디/DACON/2차 배포.zip\" \"data_2.zip\"\r\n",
        "# data_2.zip을 현재 디렉터리에 압축해제\r\n",
        "!unzip \"data_2.zip\""
      ],
      "execution_count": null,
      "outputs": []
    },
    {
      "cell_type": "code",
      "metadata": {
        "id": "2BztDX0Cnwu-"
      },
      "source": [
        "from google.colab import output\r\n",
        "# 현재 디렉터리에 dirty_mnist라는 폴더 생성\r\n",
        "!mkdir \"./dirty_mnist\"\r\n",
        "#dirty_mnist.zip라는 zip파일을 dirty_mnist라는 폴더에 압축 풀기\r\n",
        "!unzip \"dirty_mnist_2nd.zip\" -d \"./dirty_mnist/\"\r\n",
        "# 현재 디렉터리에 test_dirty_mnist라는 폴더 생성\r\n",
        "!mkdir \"./test_dirty_mnist\"\r\n",
        "#test_dirty_mnist.zip라는 zip파일을 test_dirty_mnist라는 폴더에 압축 풀기\r\n",
        "!unzip \"test_dirty_mnist_2nd.zip\" -d \"./test_dirty_mnist/\"\r\n",
        "# 출력 결과 지우기\r\n",
        "output.clear()"
      ],
      "execution_count": null,
      "outputs": []
    },
    {
      "cell_type": "code",
      "metadata": {
        "id": "DN5ObnZVSgj1"
      },
      "source": [
        "! nvidia-smi"
      ],
      "execution_count": null,
      "outputs": []
    },
    {
      "cell_type": "code",
      "metadata": {
        "colab": {
          "background_save": true
        },
        "id": "FayfPG_XoKkY",
        "outputId": "9392e3f0-776e-410a-ed27-d6d3f3ccf5f5"
      },
      "source": [
        "! pip install torchinfo\r\n",
        "! pip install efficientnet_pytorch"
      ],
      "execution_count": null,
      "outputs": [
        {
          "output_type": "stream",
          "text": [
            "Collecting torchinfo\n",
            "  Downloading https://files.pythonhosted.org/packages/4f/b1/4b310bd715885636e7174b4b52817202fff0ae3609ca2bfb17f28e33e0a1/torchinfo-0.0.8-py3-none-any.whl\n",
            "\u001b[31mERROR: Operation cancelled by user\u001b[0m\n",
            "Collecting efficientnet_pytorch\n",
            "  Downloading https://files.pythonhosted.org/packages/4e/83/f9c5f44060f996279e474185ebcbd8dbd91179593bffb9abe3afa55d085b/efficientnet_pytorch-0.7.0.tar.gz\n",
            "Requirement already satisfied: torch in /usr/local/lib/python3.7/dist-packages (from efficientnet_pytorch) (1.7.1+cu101)\n",
            "Requirement already satisfied: typing-extensions in /usr/local/lib/python3.7/dist-packages (from torch->efficientnet_pytorch) (3.7.4.3)\n",
            "Requirement already satisfied: numpy in /usr/local/lib/python3.7/dist-packages (from torch->efficientnet_pytorch) (1.19.5)\n",
            "Building wheels for collected packages: efficientnet-pytorch\n",
            "  Building wheel for efficientnet-pytorch (setup.py) ... \u001b[?25l\u001b[?25hdone\n",
            "  Created wheel for efficientnet-pytorch: filename=efficientnet_pytorch-0.7.0-cp37-none-any.whl size=16031 sha256=1f8a2d2a682317c79dd285be92c992f0c72faf37db822621005cdcc8f252132b\n",
            "  Stored in directory: /root/.cache/pip/wheels/e9/c6/e1/7a808b26406239712cfce4b5ceeb67d9513ae32aa4b31445c6\n",
            "Successfully built efficientnet-pytorch\n",
            "Installing collected packages: efficientnet-pytorch\n",
            "Successfully installed efficientnet-pytorch-0.7.0\n"
          ],
          "name": "stdout"
        }
      ]
    },
    {
      "cell_type": "code",
      "metadata": {
        "colab": {
          "background_save": true
        },
        "id": "PJ0SpfPVn13s"
      },
      "source": [
        "import os\r\n",
        "from typing import Tuple, Sequence, Callable\r\n",
        "import csv\r\n",
        "import cv2\r\n",
        "import numpy as np\r\n",
        "import pandas as pd\r\n",
        "from PIL import Image\r\n",
        "from tqdm import tqdm\r\n",
        "import torch\r\n",
        "import torch.optim as optim\r\n",
        "from torch import nn, Tensor\r\n",
        "from torch.utils.data import Dataset, DataLoader, random_split\r\n",
        "from torchinfo import summary\r\n",
        "\r\n",
        "from torchvision import transforms\r\n",
        "from torchvision.models import resnet152\r\n",
        "from torchvision.models import resnet101\r\n",
        "from torchvision.models import resnet50\r\n",
        "from efficientnet_pytorch import EfficientNet\r\n",
        "\r\n",
        "model = EfficientNet.from_pretrained('resnet101')\r\n"
      ],
      "execution_count": null,
      "outputs": []
    },
    {
      "cell_type": "code",
      "metadata": {
        "colab": {
          "background_save": true
        },
        "id": "E1VAolH-n6Gc"
      },
      "source": [
        "class MnistDataset(Dataset):\r\n",
        "    def __init__(\r\n",
        "        self,\r\n",
        "        dir: os.PathLike,\r\n",
        "        image_ids: os.PathLike,\r\n",
        "        transforms: Sequence[Callable]\r\n",
        "    ) -> None:\r\n",
        "        self.dir = dir\r\n",
        "        self.transforms = transforms\r\n",
        "\r\n",
        "        self.labels = {}\r\n",
        "        with open(image_ids, 'r') as f:\r\n",
        "            reader = csv.reader(f)\r\n",
        "            next(reader)\r\n",
        "            for row in reader:\r\n",
        "                self.labels[int(row[0])] = list(map(int, row[1:]))\r\n",
        "\r\n",
        "        self.image_ids = list(self.labels.keys())\r\n",
        "\r\n",
        "    def __len__(self) -> int:\r\n",
        "        return len(self.image_ids)\r\n",
        "\r\n",
        "    def __getitem__(self, index: int) -> Tuple[Tensor]:\r\n",
        "        image_id = self.image_ids[index]\r\n",
        "        image = Image.open(\r\n",
        "            os.path.join(\r\n",
        "                self.dir, f'{str(image_id).zfill(5)}.png')).convert('RGB')\r\n",
        "        target = np.array(self.labels.get(image_id)).astype(np.float32)\r\n",
        "\r\n",
        "        if self.transforms is not None:\r\n",
        "            image = self.transforms(image)\r\n",
        "\r\n",
        "        return image, target"
      ],
      "execution_count": null,
      "outputs": []
    },
    {
      "cell_type": "code",
      "metadata": {
        "colab": {
          "background_save": true
        },
        "id": "otc8moGWn8kc"
      },
      "source": [
        "# 이미지 변형하기 Data Argument\r\n",
        "\r\n",
        "transforms_train = transforms.Compose([\r\n",
        "    transforms.RandomHorizontalFlip(p=0.5), # 이미지를 랜덤으로 수평으로 뒤집는다\r\n",
        "    transforms.RandomVerticalFlip(p=0.5),   # 이미지를 랜덤으로 수직으로 뒤집는다\r\n",
        "    transforms.ToTensor(),                  # 이미지 데이터를 tensor로 바꿔준다\r\n",
        "    transforms.Normalize(                   # 이미지를 정규화한다.\r\n",
        "        [0.485, 0.456, 0.406],\r\n",
        "        [0.229, 0.224, 0.225]\r\n",
        "    )\r\n",
        "])\r\n",
        "\r\n",
        "transforms_test = transforms.Compose([\r\n",
        "    transforms.ToTensor(),\r\n",
        "    transforms.Normalize(\r\n",
        "        [0.485, 0.456, 0.406],\r\n",
        "        [0.229, 0.224, 0.225]\r\n",
        "    )\r\n",
        "])"
      ],
      "execution_count": null,
      "outputs": []
    },
    {
      "cell_type": "code",
      "metadata": {
        "colab": {
          "background_save": true
        },
        "id": "uIf8VAbfnq4L"
      },
      "source": [
        "trainset = MnistDataset('/content/dirty_mnist', '/content/dirty_mnist_2nd_answer.csv', transforms_train)\r\n",
        "testset = MnistDataset('/content/test_dirty_mnist', '/content/sample_submission.csv', transforms_test)\r\n",
        "\r\n",
        "m=len(trainset)\r\n",
        "train_data, val_data = random_split(trainset, [int(m-m*0.2), int(m*0.2)])\r\n",
        "\r\n",
        "train_loader = DataLoader(train_data, batch_size=64, num_workers=0, drop_last=True)\r\n",
        "valid_loader = DataLoader(val_data, batch_size=16, num_workers=0, drop_last=True)\r\n",
        "test_loader = DataLoader(testset, batch_size=16, num_workers=0, drop_last=True)"
      ],
      "execution_count": null,
      "outputs": []
    },
    {
      "cell_type": "code",
      "metadata": {
        "colab": {
          "background_save": true
        },
        "id": "aEn9r992nuDm"
      },
      "source": [
        "class MnistModel(nn.Module):\r\n",
        "    def __init__(self) -> None:\r\n",
        "        super().__init__()\r\n",
        "        self.resnet = resnet101(pretrained=True)\r\n",
        "        self.classifier = nn.Linear(1000, 26)\r\n",
        "\r\n",
        "    def forward(self, x):\r\n",
        "        x = self.resnet(x)\r\n",
        "        x = self.classifier(x)\r\n",
        "\r\n",
        "        return x\r\n",
        "\r\n",
        "device = torch.device('cuda' if torch.cuda.is_available() else 'cpu')\r\n",
        "model = MnistModel().to(device)\r\n",
        "print(summary(model, input_size=(1, 3, 256, 256), verbose=0))"
      ],
      "execution_count": null,
      "outputs": []
    },
    {
      "cell_type": "code",
      "metadata": {
        "colab": {
          "background_save": true
        },
        "id": "M1IaSRPToAhU"
      },
      "source": [
        "optimizer = optim.Adam(model.parameters(), lr=1e-3)\r\n",
        "criterion = nn.MultiLabelSoftMarginLoss()\r\n",
        "\r\n",
        "num_epochs = 30\r\n",
        "valid_acc_max = 0\r\n",
        "for epoch in range(num_epochs):\r\n",
        "  model.train()\r\n",
        "  for i, (images, targets) in enumerate(train_loader):\r\n",
        "      optimizer.zero_grad()\r\n",
        "\r\n",
        "      images = images.to(device)\r\n",
        "      targets = targets.to(device)\r\n",
        "\r\n",
        "      outputs = model(images)\r\n",
        "      loss = criterion(outputs, targets)\r\n",
        "\r\n",
        "      loss.backward()\r\n",
        "      optimizer.step()\r\n",
        "\r\n",
        "  outputs = outputs > 0.5\r\n",
        "  acc = (outputs == targets).float().mean()\r\n",
        "  print(f'{epoch} Train : loss_{loss.item():.5f}, acc_{acc.item():.5f}', end =\" / \")\r\n",
        "\r\n",
        "  model.eval()\r\n",
        "  for idx, (images, targets) in enumerate(valid_loader):\r\n",
        "\r\n",
        "      images = images.to(device)\r\n",
        "      targets = targets.to(device)\r\n",
        "\r\n",
        "      with torch.no_grad():\r\n",
        "        outputs = model(images)\r\n",
        "        loss = criterion(outputs, targets)\r\n",
        "\r\n",
        "  outputs = outputs > 0.5\r\n",
        "  val_acc = (outputs == targets).float().mean()\r\n",
        "\r\n",
        "  if valid_acc_max < val_acc:\r\n",
        "    best_model = model\r\n",
        "    best_model_epoch = epoch\r\n",
        "    valid_acc_max = val_acc\r\n",
        "\r\n",
        "  print(f'Valid : loss_{loss.item():.5f}, acc_{val_acc.item():.5f}')\r\n",
        "\r\n",
        "path = \"/content/drive/MyDrive/스터디/DACON/\"\r\n",
        "torch.save(best_model, f'{path}{best_model_epoch}_acc_{valid_acc_max.item():.5f}.pth')\r\n",
        "torch.save(best_model.state_dict(), f'{path}_weight_{best_model_epoch}_acc_{valid_acc_max.item():.5f}.pth')"
      ],
      "execution_count": null,
      "outputs": []
    },
    {
      "cell_type": "code",
      "metadata": {
        "colab": {
          "background_save": true
        },
        "id": "f5vN7lnSYIcN"
      },
      "source": [
        "model = torch.load('/content/drive/MyDrive/스터디/DACON/resnet101_0.93990.pth')"
      ],
      "execution_count": null,
      "outputs": []
    },
    {
      "cell_type": "code",
      "metadata": {
        "colab": {
          "background_save": true
        },
        "id": "xAXEHgeDf2oJ"
      },
      "source": [
        "submit = pd.read_csv('/content/sample_submission.csv')\r\n",
        "\r\n",
        "model.eval()\r\n",
        "batch_size = test_loader.batch_size\r\n",
        "batch_index = 0\r\n",
        "for i, (images, targets) in enumerate(test_loader):\r\n",
        "    images = images.to(device)\r\n",
        "    targets = targets.to(device)\r\n",
        "    outputs = model(images)\r\n",
        "    outputs = outputs > 0.5\r\n",
        "    batch_index = i * batch_size\r\n",
        "    submit.iloc[batch_index:batch_index+batch_size, 1:] = \\\r\n",
        "        outputs.long().squeeze(0).detach().cpu().numpy()\r\n",
        "    \r\n",
        "submit.to_csv('/content/drive/MyDrive/스터디/DACON/submit_resnet101_3nd.csv', index=False)"
      ],
      "execution_count": null,
      "outputs": []
    },
    {
      "cell_type": "markdown",
      "metadata": {
        "id": "h7wam_UUipKF"
      },
      "source": [
        "### 최종제출 : resnet + densnet + efficientnet 앙상블 하드보팅"
      ]
    },
    {
      "cell_type": "markdown",
      "metadata": {
        "id": "6Usyoy14h8mX"
      },
      "source": [
        "## 전체 227 중 57등"
      ]
    },
    {
      "cell_type": "markdown",
      "metadata": {
        "id": "IFLTGx5wh712"
      },
      "source": [
        "![image.png](data:image/png;base64,iVBORw0KGgoAAAANSUhEUgAABLkAAAENCAYAAADjWLcJAAAgAElEQVR4Aey9a3hU15nnO9/Oh/PMnHNyZk6mZ+aczHSnZzyTvnd6+pJ0d7qT6Thx7MQdO44TJ20nJjenO53EuTm2QwZfcAzBNwyJcXwhdmEhIRAIZGHJIC4GgUDiIsRFQuIiBAiBjLCQKc//PGvvvfbeVdpVtUvaElWlXz1PPVW199prr/Vbb+3a77/e9a5/IR4QgAAEIAABCEAAAhCAAAQgAAEIQAACEChzAv+izNtP8yEAAQhAAAIQgAAEIAABCEAAAhCAAAQgIEQujAACEIAABCAAAQhAAAIQgAAEIAABCECg7AkgcpX9ENIBCEAAAhCAAAQgAAEIQAACEIAABCAAAUQubAACEIAABCAAAQhAAAIQgAAEIAABCECg7AnkFLnGxsZ0/vx5nTlzhicMirIBYzfGfuzjrbfe0oULF7An7KgoOzLXnqGhIcd2jA3ZB/bENXkiv0vYEnYzEbuZymOibNJe53iFAAQgAAEIQAACEJgYgUiRywgU5sbOOJPpdJonDIqyAWM3xn6MHZn3RvQaGRkpqg7sju+dtYGLFy86NmRsCXvCLqxdTOQVW8J+JmI3U3lM2CYndhvHURCAAAQgAAEIQAACYQKRIpcRJXhAYLIEjB2ZCC5zEz+VTgJ1V77jakRSY0vYU+WP9VR/n7ElbGiqbazY+q1NTvY3l+MhAAEIQAACEIAABBS9uqKJwuEBgckSMHZkpmMUe8NPeZzQKBswoin2hG1E2Uax27Al7KhYm5nq8vy5ONk7Do6HAAQgAAEIQAACLoHISC5ELswjCQLGjsxzqp0D6p8ZDiv2NDPGeTq+z9gStjQddlbMOYxN8oAABCAAAQhAAAIQmDwBRK7JM6SGHARwJHEki3HyCpXFnrCnQjYSdz+2hC3FtZXpKofIleNGgs0QgAAEIAABCECgSAKIXEUCo3h8AjiSOJJJOojYE/aUlD1hS9hSUraUVD2IXPHvLSgJAQhAAAIQgAAE8hFA5MpHh32TIoAjiSOZlANo6sGesKek7AlbwpaSsqWk6kHkmtTtBgdDAAIQgAAEIAABnwAil4+CN0kTwJHEkUzKATT1YE/YU1L2hC1hS0nZUlL1IHIlfQdCfRCAAAQgAAEIzFQCiFwzdeSnod84kjiSSTmAph7sCXtKyp6wJWwpKVtKqh5Ermm4KeEUEIAABCAAAQjMCAKIXDNimK9OJ3EkcSSTcgBNPdgT9pSUPWFL2FJStpRUPYhcV+c+hbNCAAIQgAAEIFB5BBC5Km9MS6ZHOJI4kkk5gKYe7Al7SsqesCVsKSlbSqoeRK6SuXWhIRCAAAQgAAEIlDkBRK4yH8BSbj6OJI5kUg6gqQd7wp6SsidsCVtKypaSqgeRq5TvZmgbBCAAAQhAAALlRACRq5xGq8zaiiOJI5mUA2jqwZ6wp6TsCVvClpKypaTqQeQqsxscmgsBCEAAAhCAQMkSQOQq2aEp/4bhSOJIJuUAmnqwJ+wpKXvClrClpGwpqXoQucr/noceQAACEIAABCBQGgQQuUpjHCqyFTiSOJJJOYCmHuwJe0rKnrAlbCkpW0qqHkSuirwNolMQgAAEIAABCFwFAohcVwH6TDkljiSOZFIOoKkHe8KekrInbAlbSsqWkqoHkWum3BnRTwhAAAIQgAAEppoAItdUE57B9eNI4kgm5QCaerAn7Ckpe8KWsKWkbCmpehC5ZvDNEl2HAAQgAAEIQCBRAohcieKksjABHEkcyaQcQFMP9oQ9JWVP2BK2lJQtJVUPIlf47oH3EIAABCAAAQhAYOIEELkmzo4jCxDAkcSRTMoBNPVgT9hTUvaELWFLSdlSUvUgchW4oWA3BCAAAQhAAAIQiEkAkSsmKIoVTwBHEkcyKQfQ1IM9YU9J2RO2hC0lZUtJ1YPIVfw9BkdAAAIQgAAEIACBKAKIXFFU2JYIARxJHMmkHEBTD/aEPSVlT9gStpSULSVVDyJXIrcdVAIBCEAAAhCAAASEyIURTBkBHEkcyaQcQFMP9oQ9JWVP2BK2lJQtJVUPIteU3YpQMQQgAAEIQAACM4wAItcMG/Dp7C6OJI5kUg6gqQd7wp6SsidsCVtKypaSqgeRazrvTjgXBCAAAQhAAAKVTACRq5JH9yr3DUcSRzIpB9DUgz1hT0nZE7aELSVlS0nVg8h1lW9YOD0EIAABCEAAAhVDAJGrYoay9DqCI4kjmZQDaOrBnrCnpOwJW8KWkrKlpOpB5Cq9exhaBAEIQAACEIBAeRJA5Cpi3Mb627Vj+w7t2H5EQ4WOGx1Qh1N2h7rDhU/v0Cu/eFGNh0cK1VD2+2e6Izna366Wpg3admhIY2mcysk6gzPdnibLb2LHD6qno13t5tk9qInVUXq2X/m2FIxb54mRvOM2du6wtr3epJaOfo2W9HUqfp/K0U4Rucr+locOQAACEIAABCBQIgQqUOQaUrcnLrmC1A7t2HNEA8MjGhmbHPWB1d/V9ddfp+uvX6SOQlWdXq3vOWWv0+LdtvABPft5c7x5/kQbhu32ynwtP0dyRMc7PYfeOvYdXeobHNTg8GheR3G8U9WlpqqUUinzrNOOwdJz9Me3ubTbWH725PIcOdHpikRlKRTtVaNjwymlGvcW+R0oXXuaUls62xOMt72O7O9R/+Cghkeni0kwbrVb+/OM26B2rLbXqSo1HZyu9kWcZ3RYfQfbtOX1JjU1bdCWjh4NZvCK26eIuktavHPbi8hVmfdB9AoCEIAABCAAgeknUIEiV7sWe+KSKyZZUcm83qg7Zy9TxwTFpcmLXANa84MbXZHrjiU6kJ7+AZ/OM06pIzklTku/ttRahy/itbZRbX1xxa5+bVvp1bG8SV1jU+h4dW1QdXW1qqs3qGtKuExh24tob/nZk+E2ora1IVuqaiqzMQqEBUSumN+DfY2euB0adysUplKqXrdNfRniTcx6i/iupNPBuOUXuUbUub4qEOPPTkVbCtU5ptN7mlS7LIpXtdbtOu1FwsbtU6HzFbu/Sxuc62u1NnQVe2z88ohc03l3wrkgAAEIQAACEKhkApUtct18m+78ypec5xdvDoldExSYJi9ySUqPaWR4RGMVLnCZL035iRJhkatKVZ5jU+VHZBknrE474jqCo8ManIbojZFd9Z6T2qi9RTnC8R2wUoj6Kj97Sit9sU31IYEjlapWS085cQ+EBUSumOMWFrmWG/HZPKtUFbaDtW0antLvajBu+UWutNJjIxoaHNTQyFieiK+YfZ9An/rb6jPYVDnMQrxWblO/U28RfZpAO3Je40Lf4cZ9U8cBkauSb7XpGwQgAAEIQAAC00mgskWup9szWB5b+V192ovymre5+LmL40SusREd69qhA8cjRKvI6YoZzYn+MOrW2dE9UPZCWPmJEiGRq3aL51gZp2ZMQ3safUesuqUnhzM4quG+LnV2n9ZIYpFbYxo536+e/e3q7O6PnO7Uv7W2sMhlHNn+HnWaaVPnjb1OnbOW01mc5DnLz57S8gXIlS1q8SK6ctvP5MZkdHhQfQfb1X6wL5ZgMTZyWj37u9SXNRV3dNjYW5f6HDsJhIXxIteohgf71NXRqZ7+4RLP55TJdkptKSRyZYgiY0Nqb7BRU7Xa1p/ZJkdsMt/R2DzNtaFPXeY7nTWG8SO5stqQ8zua71y2DnutKsIezu5QnRX/ltdrWzhSdrRfbU0btPeCrT+wRSvcZdqqLZf1av5s6OtSu5l6Hufa50yb7FTPae86eXKLar02ZoxnTlZZ549ZDpEr+paIrRCAAAQgAAEIQKBYAjNK5NLoFs3zRK7vrR6QNKA1d3sRXnevltliHx1Pj98eiFwPamnNT/TZT4eiw26+R2v67dGScohcUfU6Rw23a+kPPuOLcM5Uy09/SQ+tPabi5bhQO67i2yl1JGM6DsUJLrlELuO09Kil2ptOY3MT+c5Po/ZeOKyWOjvdxs3BtbfR++wIZmPqaakOpgVl5ejqavacXzOdzQhkY0M6vL1RtRlRZKa+0PQd//z2vMGrdQJN/4ePtKguu57aDerynceJOWXFsZ38OcrPnkbUvs4dEyNsDe6oc8e/ukU91n5DUSJVzV2BeBoa29o3QjmVelpU7TjcNiJsVP0dG1RvbdMKBqmU6jYdzogWsvZYu/W4Tu9a59WTkn/esdNqa7A26rV7bZPW2Sm81u7TaY0d2zH+nMtq1VTyyctdO5xSW8olcpkxD+/rdNviJH5vrPVFdDePX0qp6nVqOx2KrvJtolF7z3Vqgx0Xb8yrm7tC4z1eEHKuBfsCsb52S58jTEaK5EWdK62x021qjLBBvy8ZfxoE14Lgmlilxn35E+RnCHeb2rVtbaatVq3ZoeOhPxfMwh8b1mSWcdpT16LDoWuf3//Gve610k6bXN2i17MYF+rPZK6JiFxX8WaFU0MAAhCAAAQgUFEEZpbINfy6fpqIyOWJW2Y65Oe9HFum3jsWqWPUs49iRK6Rdi2+IxDMPv35L3n13qbFu8t3FcYpdSStSJDoaz6RK5RI3jr7viNYpzo/ebNxTl0Rw4oKKevg9VqBIqX6XWGHLhDQfMEhHOFQVeVMd/IdrFSttpxMK+2fPxC3bBkrco10Bk5tyqmnWlW+E7dDg4nyC5zXyTh7uY4tO3u62K51jgDhJfT2x6taLb2WVSjxtz8tKxQBZo5f26YRb5x8oSzVqE6zbaxLTcu98V/m2kkwLS5TOLD2WL26zhe4jL24tjisvY02yiillKnL1muFM2v36cPaYPctq9W6pnW+4FW75XhZRAlOqS2Fhays6W2D2z2hMzRtNRjTlJypepat4W6vHWasffsx4zP+O+9MhfXtarzINXYsiEiqMoKOZ1O+yJMKTXcu5lwXO9Vo21xdpw2tO7ShLrAlZ9r32h2hyFhr+8eDHIhh4ddr1/jrQNAne53Lfl23215Xx+T/cZBKOVPPw9POTf/td8rv/+q6IKrM5E5raQ/aZ78D9jU8Ljnba/sZ7xWRq6LurekMBCAAAQhAAAJXkcDMEbnSI9rx9G3eyoaf0bP7DfWJRnLdpofWH/OH7ViNXXXxOv202ROlYotcY9r6cyuU3aZ5m4eCeg+XbxSX6cSUOpIJORaZjlQukWtUfVvslMCU6rYPuhE3YUcwVaV1bcedaYpjo6OOo29FhcBR7VPLCs85bdwbiAF+PeHVzcbUs6NFbb1DfrkxP4onJSMm2Lb75wk7qQ6f0PlW79BpG+VwweaJstFA8Zwwe76r9Vpu9jTmix2N2uuwD4TS6k19/vj5TnZqnVcurc71xk6q5Drm9ni7PVP4Gt63RS37+4Ppgv74ppRqCOwssJOUUitb1HXWLKIwqlGTBD0kwKZWbvEjYkb7WvypWv50Rd9eU1q3x0YajWno0GH/uKtlI3HPO6W25I97SuvaBp28fCY3X9/+DQFLG7FpvqdjPdqxqU195wKWQYRTrbYc876fIe5OlFe/Gb8xDbXZnHwpBVF/gSDkCN4X9gZCVGh8Da/A/nKIXCaiLM+5xvas8yJUQ+KtEV+96NFAeMq+zgRtDNtp7jEMlV9Wp5ZD7rVx9MiGQLRd3+l/r9IX9mrLpk71+0n+h0OLQATftaD/KaWWr1PbCTNNcUyjo954hMaT6Yr+7QlvIAABCEAAAhCAQMkSqGyRy088f1vGNMBP/8BOTZyoyLVIHeEhDUWIXW/zgMUVuUJTKK9/6HWVb9xWGIj7fkodyakWuYzAEJUwenmjOi+OdzpNBFZ2nitfVAj969+3yZs+E3Jy/eiOXCvv2XxaHRuCSAM/qiYt/zzZIpcvimWLWUH0UOAUZzugpfe5vOxpLBiXUCSWH10Sson0wSZvqpoVOb3IvuomNTl5vOz4BRF/0eNmc2Rt0zo7dSx0nsBOxi+ecNwXcW0b7PiHhAVrc4OhPEorGtXWPRgIbFPyvbRtSe51Sm0pJIpkRxq5n6vVuG84EGNCzMZGhtTf3an2jTbiKyVfWAmJXP42c2xou43gzJjat2WvttiVXldmTtWLI3IVOlf/G/YPgEA4SqeDPwyCNmWPX4RthViMF7uC8pl1Btt9ITarHpuvbps/HdeLhs0Q+YztW6Ex1NbQeGawyDrH+PaG6ohR1tgkDwhAAAIQgAAEIACByROobJHLm5ro5Lcy72/+mn766x0a8lc2TEjkUrsW23P9YLWcWKy4IleonJsnbPKDWio1TKkjGcNpKN7pCByz8c5plWobt2Xkcgk7l1HOjy8qhISGIGLGigmB4ORPVfT6ljOnjJkyYwWHdB6RK+Scje+PG1GW6SwW55QVz3dy9ZeVPY0FjndVwza1d7S7z9eteBE42elQWUe8siJSw14/gtAZJ7s9NNXNjEHOnE5Z090i7dGzNX9fql5tVsR19gX9CGxuTMffsP3wIhOratW4PTMH2HTbRzHnm1Jbyve9M5FCTlRU+LuQO6+a+d7615aQmOVvM2MU2h58n0PjZqfYmdeIVR2DSKboSK6C5/KjAKu0bo8r3oWnRsaK5FodZ+p00Kegn4ZjsD2w0Xx5DY3NBt+/yP573wvHpkLjmcEiXCaB94hcpXLnQjsgAAEIQAACEIhFIP22Rt68NLHF8iZzbIzGVbbI9fPXNTI84j2j0rdPgcj16BY3UXxIvFq8OxiJcYnnQ+UQucKO39V4HxK5alt0eNBONRqKXi0x5FxGOT++cBAWuUIRDs4qe37icSt6uf0OO4kpJ8+NWbGszcvxVLzI5eT6cSLTqlUdel23y5t6mYCTVozIMJGyUypMJNz/sS4bneWJQGGhwXsfOOojwTQqkytolzv9zBG8OhvdqWAmGsy+NxF7/tTT0DS0ZbVq3Nqmrr7DarEJs0O2F22Prr35+2KJXO4xUSJs1fpOP9fRRMZ4uo6ZUlsaJ4qEF53IjhYa03F/ddSUqldv0A6zWmKbnQKYsMjl5GDLjCKLFHlyXdtC2wP7HVOPjVA1+a+WVwVJ9LOmRmaOb7+22QizsE3n/C4GYlZwbmOLwfZA5MrMMVfbuEVtB/t0uMVGnSFyBXclvIMABCAAAQhAYKYQGGqer9vnN7tBOTE6PXbqgFo3bVLzju1qPzqcecSZen37pvtVN5Fg9BzHjp3ao9Yd22M89+iUzYWe2SrnU2WLXHbqYETH3U25Ra4dj+dbXTFruuLxFfqGF8n12ecOuFWHxKu8Ild4uuJ9r8Y2uJxdKqEdU+pI5nSEXAc805mKuy0scm2JSJScVU/I4YsvcoVy4JjoBesQZ01VdHMymST2G3TYChqRzlyeSC5/uqJNLp7V/ilhOHXnKB97GlNXk10t0yRmb1JT6Flv87KFBCh/ylftFu1wVtr0RE8rglY1qc1OCwtNf/SPM+KUv2JctB37QlbovPZ7EkxXtFMj7ThGCQh2n/s6NnJcbetsonF3ZVFbb6m+Tqkt2e90OArr4l412hVOa4OcZ+l0pxo90bN64+FgynNUHbmuN6HtgfgTGreUWYDgtDrXW5tcp72+rYSuR+HpzqE6M65toe3BuYa1d72Zhl2lujV1roheW6+m7Yc15F+7Mm3G2kUgsLl5BrOnfKcvDIXqCPoUnNvUG2z3Ra7+bX7+s/q2QNQLzofIVUK3CjQFAhCAAAQgAIFpInBs+d269o4X1FnofOl+Nf/sW7r2trt13+JntPDZJ/TtO2bphv9Zr1N2VlykUDWs9lWmfMTzxU3ys5pHHiuN7K3NOvZhzbpplq791sNZ22vV/mbuTsxwkWtEG2bbVQ2/q9rjktJjOrb6niCH1902f5c0sNommP+ant3tJYhPH1PtD4LE8c92ebBDIte8zUEU2bhILoUTz39GP13rD70GNq7W1iAPfe5RLNE9U+pITolAEy0OWIds3GvI4ctwBL225RQV/OPq1dTs5ujKnqroH+uLXGMa6mwKEiyHpiv6gpiZgnMsnFMmlHjeTJM6HewzwsTx0OdxfZsSvtGObtxzl489BUm3jdOd7bgHglKdtp31mPiCZJ3q6kz0l81vZG2yVrVe1EvYwQ+c9kDkGu3bprqQoNJfyB7Nfj8vWEqp1du8ZN2jTkSRv1qjb3PDan+9Se2haXfDfvLzWm3rn9w4x7WHyZSbUluKEqjSaYVXUazbYSMoA4HGF7nGhtTZ5OXuCwtl/nUjFN1lxi60PbCNiHpDCxIUs7pixrUt6lxWUFq+QYeLvW6EV2ZMVal+a5dOj4wpPTai0we3OKt2Bm0N+hT0M4fIFWqnL3KN9mnbaivGFiFy+RGUOYS4Yvuco7yxSR4QgAAEIAABCEBgygiMbNIjt35DN9w2S99e25/3NCMbH9a1X12k9nDC8HS/qu+ZpVmr+txjI4Wqt3Vq7/hIrObn79e199TrlD1r5LF2Z+j1RJUrcn2nSsesuBbanevtDBe5pKH193grLlqxy7zeqDu/7K3EGClyhcsG77/4dHuQOD6cjP766/TETncIxotckk6/qh/fHNTj5xC7/jp99vEdQZ25RrFEt0+pI5nDUZiM4xtOlhysiJjHYQ85UhmOoNc2X6gaFzljhQs7lS1zqqLpg5+g3kR5VFWperkt6736gkNaI7uDqU3OinzLq1TvOdEZ0x7NVCIvmb6ToytWHpw8/Z+SMch9vrKxp5BgVL9rZHyC8dB+f6XOdEgYM2O+cpsfSegnq3cifjIjrTLGfpmxE+vEe3YSsr3c9miYB7nhcuVvs1EyQfSYmZpmpr+GpqeViU1NqS3lELnSZsVB+z2uatReJ/dZSIh2pvpVq2pZ5nfdv7bkut6EtgfiT7QgFIxdlRo7XdsMhNIJ5uTyc8WZ1QnD06HrtK5pg7aEV/6MuGZkX6PG2d+yOu1whNPoPkVGcl1sD6Z2O9e9kI0636MiRK7susx0zDVxcojlvpZF/U4hcpXojQzNggAEIAABCFQCgRONmvPVWbr9+T0aOVWvb9/6Lc1Ze0AjOYSj9mdn6dpfto3r+bFVPwq2xxWqJDkRZI9tctM6mVrjHPvmHj1z9yzNWtao578zS7f+cnvO9mY3dMaLXEoPaM19NhLrOl3/6S/pofXHpN2LXPErQuT67HM7dODX/xREe11/o77x5JZQQnuDeSyjzLdWDjjsI0Uus+fsDj37g8+E6jSJ8v9Jz253j8seuHL4PKWOZISzFOU4FLctJD6FxIGcdYScS98RDbUrn6jgr6joiFhN6god55xv7Lh2rAkLFtWq33pYnS1ehEdI5Eqn7XShkHO8vtMXV0xkj7/anuPgpZRaVq11WwtPJ8rZ9+z2TsPncrGnQJTKMXUvlGg+VbdNgw67UF6uVEpOvjaP6diesIgZysfl7B9WlxcNaMWB2qa96rORVSE7zmePzjhfOKwWP9LFtaXa1zvVuTHL5kb71d5UG+Rd8myqavX4lftKyX7CbZlSW8olcqXTGvbyrZmxMmNsovzGju1QvRW/DMvqem050qkWb4VM/9qS63oT2l5I5EqP9ajFTpdd3qSu0SSmK4ZzjoWuQfZaY0SmiNVnw+MxdnqvNqwJotesLVev26LD52wEahEil2HdFYp8NW2pbdLevjbVO+0qQuQyde1rDKJoneMb1ZnwNQ+RqxzuamgjBCAAAQhAoIwIvH1Jxw426vm5d+uGW+/WnLXdQfCMEb2+Pks3fP1hPd98QMdG3s7o2Mim+brhjkVqDU8JHDmgZ75TKJIroxrvw7Aa/mdW9Fg+kWu0T+2r5uv2W2fprhf3uMLWiCt43fD1+aru6CuY7L4CRa4osIW3jY24CerHcqiZkTWMeUntg9mI44uNFlmvV35kOF+l409Tilum1JFM2MEIO1yl835MI+fd5PfDo4WjAsZGhjToJMsf1mgEn9Fhm0g/en/p9Du6r9hTNBczbnZsh8xUr4ixL2Zb7LrGRjTkLc6QxHmLaeNky5acLfksy++7OWKnUa/cop6+rmAl0Y4tWmfFu6ycgznHb3TYu4YNKhGbsvWdHxk3bThnG3J9f/wxGlSc63Gx9SNyleJdDG2CAAQgAAEIlDGBAy9r1jfnaMHaNp3K1LC8Tr2tUx31embu/frB6u6sjl5S+7NGHPuGZs1dpIWPzdGtt81yktbnz8mVVY356Ew5/JGqT4T2RYpcb6t14Sxd65zzZTX3ZSW6Tw/r2KaXdd93vqEbbpqlBTsiO+WcBJErxJq3yRIoOUcyl/PC9kkLI8U6dBMpjz3lFrkmwnMmH4MtJWVLY9rb4EX9bTmedR0Zk58vMBRROJPtLl/fEbmSvf+gNghAAAIQgAAEEiAw2qdOZ7XDPTpyPktUihSqss95SZsfm6UbHsxa0THXsem3C0ZpOWd4+1Lecohc2ePA58QI4Egm5UhSj3EOsSfsIJ9IUMw+bCk5Wwqm55op0G1qP9ilro42bWmslTvt0KzuGKxwWMw4zaSyiFyJ3XpQEQQgAAEIQAACB17W7d+8u7jnS3scbkNHxyeOb22u8lc3fGT23U5E11AuoSpE/9TaObrh1jmqy15fJ+LYzpeKbO8379bzB0InC71F5ArB4G2yBHAkk3MkZ5Kzl6uv2BP2lMs2it2OLSVoSxG53GxOrVT1Om05NDT5qYIzINoWkSvZ+w9qgwAEIAABCMxoAulLGnlzePxz0xO69qYn1By1b9SN1Dq1/mFPHJujR559Rgvu/ZauvWOOFqxoVOuO7Wo/elYjJodXhFAVMH9bx5rn69abvqWFHZeCzfZd1LGjEe19c1jNT8zStU9sGt+XN4dzRnMhclnQvCZOAEcyQUdyBjh5hYQK7Al7KmQjcfdjS8nbksnl1new3c3JdbBPg0nkwZpB1z1ErsRvQagQAhCAAAQgAAEjHHnilQOjY5GuvWmR2osgc2rt/br2nnqdyj4mSqgyZd48oLr5brL7hbuy8mrZOnIdq7c1liVetf8yeqVHW1XUKyJXFBW2JUIARzJ5RzKuE1+J5bAn7Ckpu8aWsKWkbCmpehC5EijWnSEAACAASURBVLntoBIIQAACEIAABEIExglEUyxyjR18WbNunaUbfvCCWs9k5fAKtSt3FFibFt40Sws7gsLj+hDsyvkOkSsnGnZMlgCOJI5kUg6gqQd7wp6SsidsCVtKypaSqgeRa7J3HBwPAQhAAAIQgEA2gYkIRNl1FBfJNawjB89mVzH+c85IrvEil7Kj0cbXNm4LItc4JGxIigCOJI5kUg6gqQd7wp6SsidsCVtKypaSqgeRK6k7D+qBAAQgAAEIQMAScESuHPmswjm7xtL2iPGvxYlc44+P3FJA5HpkU3R+Lr/NJidYngciVx447JocARxJHMmkHEBTD/aEPSVlT9gStpSULSVVDyLX5O43OBoCEIAABCAAgfEE4q5YmGuVQlPjUPN8dzXF7OpzClXZBSM+5zx2j56Psyrk/GYNRVRrNyFyWRK8Jk4ARxJHMikH0NSDPWFPSdkTtoQtJWVLSdWDyJX4LQgVQgACEIAABGYkgQ2bW3XtTbNmzHPpK3XjxhmRaxwSNiRFAEcSRzIpB9DUgz1hT0nZE7aELSVlS0nVg8iV1J0H9UAAAhCAAAQgMNMJIHLNdAuYwv7jSOJIJuUAmnqwJ+wpKXvClrClpGwpqXoQuabwZoSqIQABCEAAAhCYUQQQuWbUcE9vZ3EkcSSTcgBNPdgT9pSUPWFL2FJStpRUPYhc03t/wtkgAAEIQAACEKhcAohclTu2V71nOJI4kkk5gKYe7Al7SsqesCVsKSlbSqoeRK6rfstCAyAAAQhAAAIQqBACiFwVMpCl2A0cSRzJpBxAUw/2hD0lZU/YEraUlC0lVQ8iVynexdAmCEAAAhCAAATKkQAiVzmOWpm0GUcSRzIpB9DUgz1hT0nZE7aELSVlS0nVg8hVJjc2NBMCEIAABCAAgZIngMhV8kNUvg3EkcSRTMoBNPVgT9hTUvaELWFLSdlSUvUgcpXvvQ4thwAEIAABCECgtAggcpXWeFRUa3AkcSSTcgBNPdgT9pSUPWFL2FJStpRUPYhcFXX7Q2cgAAEIQAACELiKBBC5riL8Sj81jiSOZFIOoKkHe8KekrInbAlbSsqWkqoHkavS74joHwQgAAEIQAAC00UAkWu6SM/A8+BI4kgm5QCaerAn7Ckpe8KWsKWkbCmpehC5ZuBNEl2GAAQgAAEIQGBKCCByTQlWKjUEcCRxJJNyAE092BP2lJQ9YUvYUlK2lFQ9iFzcN0EAAhCAAAQgAIFkCCByJcORWiII4EjiSCblAJp6sCfsKSl7wpawpaRsKal6ELkibiLYBAEIQAACEIAABCZAAJFrAtA4JB4BHEkcyaQcQFMP9oQ9JWVP2BK2lJQtJVUPIle8+wpKQQACEIAABCAAgUIEELkKEWL/hAngSOJIJuUAmnqwJ+wpKXvClrClpGwpqXoQuSZ8q8GBEIAABCAAAQhAIIMAIlcGDj4kSQBHEkcyKQfQ1IM9YU9J2RO2hC0lZUtJ1YPIleTdB3VBAAIQgAAEIDCTCSByzeTRn+K+40jiSCblAJp6sCfsKSl7wpawpaRsKal6ELmm+IaE6iEAAQhAAAIQmDEEELlmzFBPf0dxJHEkk3IATT3YE/aUlD1hS9hSUraUVD2IXNN/j8IZIQABCEAAAhCoTAKRItfFixcrs7f0aloJGDs6e/asL05Yx5LXMzA5UzwDY0vYU/Hc+L6NZ4YtjWeCnVxdJlzbri5/7B/+2AA2gA1gA9hA+dpAtsgRKXJlF+IzBCAAAQhAAAIQgAAEIAABCEAAAhCAAARKmQAiVymPDm2DAAQgAAEIQAACEIAABCAAAQhAAAIQiEUAkSsWJgpBAAIQgAAEIAABCEAAAhCAAAQgAAEIlDIBRK5SHh3aBgEIQAACEIAABCAAAQhAAAIQgAAEIBCLACJXLEwUggAEIAABCEAAAhCAAAQgAAEIQAACEChlAohcpTw6tA0CEIAABCAAAQhAAAIQgAAEIAABCEAgFgFErliYKAQBCEAAAhCAAAQgAAEIQAACEIAABCBQygQQuUp5dGgbBCAAAQhAAAIQgAAEIAABCEAAAhCAQCwCiFyxMFEIAhCAAAQgAAEIQAACEIAABCAAAQhAoJQJIHKV8ujQNghAAAIQgAAEIAABCEAAAhCAAAQgAIFYBBC5YmGiEAQgAAEIQAACEIAABCAAAQhAAAIQgEApE0DkKuXRoW0QgAAEIAABCEAAAhCAAAQgAAEIQAACsQggcsXCRCEIQAACEIAABCAAAQhAAAIQgAAEIACBUiaAyFXKo0PbIAABCEAAAhCAAAQgAAEIQAACEIAABGIRQOSKhYlCEIAABCAAAQhAAAIQgAAEIAABCEAAAqVMAJGrlEeHtkEAAhCAAAQgAAEIQAACEIAABCAAAQjEIoDIFQsThSAAAQhAAAIQgAAEIAABCEAAAhCAAARKmQAiVymPDm2DAAQgAAEIQAACEIAABCAAAQhAAAIQiEUAkSsWJgpBAAIQgAAEIAABCEAAAhCAAAQgAAEIlDIBRK5SHh3aBgEIQAACEIAABCAAAQhAAAIQgAAEIBCLACJXLEwUggAEIAABCEAAAhCAAAQgAAEIQAACEChlAohcpTw6tA0CEIAABCAAAQhAAAIQgAAEIAABCEAgFgFErliYKAQBCEAAAhCAAAQgAAEIQAACEIAABCBQygQQuUp5dGgbBCAAAQhAAAIQgAAEIAABCEAAAhCAQCwCiFyxMFEIAhCAAAQgAAEIQAACEIAABCAAAQhAoJQJIHKV8ujQNghAAAIQgAAEIAABCEAAAhCAAAQgAIFYBBC5YmGiEAQgAAEIQAACEIAABCAAAQhAAAIQgEApE0DkKuXRoW0QgAAEIAABCEAAAhCAAAQgAAEIQAACsQggcsXCRCEIQAACEIAABCAAAQhAAAIQgAAEIACBUiaAyFXKo0PbIAABCEAAAhCAAAQgAAEIQAACEIAABGIRQOSKhYlCEIAABCAAAQhAAAIQgAAEIAABCEAAAqVMAJGrlEeHtkEAAhCAAAQgAAEIQAACEIAABCAAAQjEIoDIFQsThSAAAQhAAAIQgAAEIAABCEAAAhCAAARKmQAiVymPDm2DAAQgAAEIQAACEIAABCAAAQhAAAIQiEUAkSsWJgpBAAIQgAAEIAABCEAAAhCAAAQgAAEIlDIBRK5SHh3aBgEIQAACEIAABCAAAQhAAAIQgAAEIBCLACJXLEwUggAEIAABCEAAAhCAAAQgAAEIQAACEChlAohcpTw6tA0CEIAABCAAAQhAAAIQgAAEIAABCEAgFgFErliYKAQBCEAAAhCAAAQgAAEIQAACEIAABCBQygQQuUp5dGgbBCAAAQhAAAIQgAAEIAABCEAAAhCAQCwCJSFynRw4q589/Wt97Lbv6Jq//qze+4GbnVfz2Ww3+3lMH4ELl8b06t4TeqKxUz9ZsUv3Vrc5r+az2W72V9Lj4uWT2trzsFI7/4cWtfyWFm58j/NqPpvtZn8lPd65dFwjHbM11PAXOrv83Tr7yrucV/PZbDf7eUAAAhCAAAQgAAEIQAACEIAABMqNwFUXuV6pe80Xtoy4FfU0wpcpx2PqCezoOesLW0bcinoa4cuUq4TH/lMpX9gy4lbU0whfplwlPEa7XwyELSNuRT2Xv1umHA8IQAACEIAABCAAAQhAAAIQgEA5EbiqIpcRrqJErVzbELqm1rSMcBUlauXaVu5ClxGuokStXNvKXehyBK4oUSvHNoSuqf2+UTsEIAABCEAAAhCAAAQgAAEIJEvgqolcZgqinZqYS9TK3m7Kj5u6eKBGN3/5Lt3w5UV6/WIIzr4XdYPZ/kiTzoQ273rJlL1L32447Ww90zwvotxBLXHqvEvfWHUidLSkc036kbMvpV3+nmLLS7YdThu9c9n3P2o+79ccXe6nmv1Sk/aH++sfMbE3ZgqinZqYS9TK3m7K5526+PYFHes4oIWrdmvuqi4dzG7axZNaXe9Fi9W06+U9Qb/doiPa2dimB5qOaTT72El+NlMQ7dTEXKJW9nZTPs7UxbOd92nJ5lud5ysHQtZ35Zi27bjdE9Y+rJf3HNalrH6c6LhdC7eu1KkrWTsm+dFMQfSnJuYQtcZFdS1/d/6pi+nLeqtrqYZWfVKDK+7TsPuVymxp+oLefP0rQcTYivt0oedyZpmLHTpf92dumapbNNR+QemMEpc13HCNzq5vVWVNlM3oJB8gAAEIQAACEIAABCAAAQhAYJIErprIZXJtZYtYcT6b4zIe5xp0pzPN8XYtPBTs2f/i7V79j+t13zM+rarvulMiZ7/xtlP4zJofu+W+2xASw/bqYTt18iMP6dULQb06bc+3JCRyFVte2rUwemqmYXDnmkAtyFfuvR/5sar6Q22bxFuTaytbxIrz2RwX9Rhq25NV3wHtzyg4qo7X2nRv7V5t7hvQztd2697qdm0Iui51d+mB6r3aNpRxYCIfTK6tbBErzmdzXN7H8BbVhKY9Lt0XiFwn9hiB66ta131Y3R3/pIUbP66VR0KCz2CzXt54o9b15T3DhHaaXFvjRKwYYpc5LvJx6Kms+r6oCwPZJT1xypyn6qMarPGErFe+Eip7WW++eo3OVt+n4d6DGn71ozr7SmZd6SNPafCV72n4XHb9fIYABCAAAQhAAAIQgAAEIAABCAQErprIZZLKxxG1ssuY4zIfB7XwpkzhSgrErPd+ICx+7dXPP2LKft8XhwqKXB+4WR9auFe+FFFI5IpVPiRyLdik4QsjmU9flAuVW7jX7/bl47v08FfcPr9vwbagbX6J4t+YpPJxRK3sMua4qMfFg0dUtfGAql5t9+rNErnSx/RydZseaDnlHn76iB6vbtPCnTaa64K2NYT2R51kEttMUvk4olZ2GXNc7sdl7d35cUe8ennbV536A5HrmDZufY8Wbm/WsKngSptWGjFs1z6/uu7dNzr7p0DTc5PMxxC1soUwk4w+8nGsUUOvP6Wh9TZKK1OYco7pWaJB55z3adiLOrzY9CFXHHut1Y3WSrdqyJTZ0OGeZmC5c8xgq1U7L2i4/hoNbujIiu6KbBUbIQABCEAAAhCAAAQgAAEIQGAGE7hqIlexUxWt2GWOy3y8rdfnuYLPDcu9qKKxbZptxKbPzdL7PnCzvrDKc5j9qK9F2urNh8ovcv1YdzqRX/+spXbBubwiV9zy0eJVZr/cT34kV0jkMnui2x1VQ7xtxU5VtGKXOS7vo+tAtMjliVqPt9rwnBOO6HVvszeGR9worp0JTskMt7PYqYpW7DLH5Xpc7n5SS4xwtW2ddu82Ytd7FIhcnqjV1uYdfsYVvbaulJPCf3CdXt54u2z3c51jotuLnqpoBbHl785/Sk+Uyo6+Mgdd2vzJTEHLbOxb6glf8+UMrRW1tllRyxO9Xmt1zpt2IsYCkSx/Y9gLAQhAAAIQgAAEIAABCEAAAjOZwFUTuaxoNZHX7AE7vur7blTYPC+qad8SR9yavaLOncr4k01u9Iy3/b3/WCerWUWLRXb64RK93vq4U9f7bN15Ra645UMiV3Yk10V3GqXtYy6R68iyu9w+fz88zdIeVfyrFa0m8pr3bLlErvNH9YvqNs3fPuge7n2eu9XMeTunDWvaNN95L1259KYunn9To5lo8p620E4rWk3kNbLuK/u0bpNZndGdbtjZ5q7UGIhc3v6dVuTyPrdu0WVdVmfbx7WwdYubo+vSsIaHhnUpO2FX5InjbcyO0Crmc94z5BG53lzvrt446AtYkt5qcSO37JTE840698q7NPhGr3sa+3mz+XxaF1a9S4Obe50orisjF3T5/AWNJWgHefvGTghAAAIQgAAEIAABCEAAAhAoKwJXTeRKLpJLUtsiV/D5co2OSDqy3AhAd2lprzeV8SNLtCstnWnw8m+FoqLyi1w/Vt25E1rqTA2c5eb8yityxS0fErls7i/7mpEbLFTu3hptbd3lPOte+qk+6pUP5++ajOVNeySXzmjd6jbdu+aIzqSl0T17dW/1btUeSevK3v26t3q/Ot4aVfdmO93RJKhv1+ruZFLQJx3JdWqvOz1xya59zvTR8SLXZe3e8X4t3PSo9pr5iieW6bmN79HLncPSSfP+djWflM523edGgzl5vW7UK11BTq/JjO/0R3K5ApUR0zJELnmRWlbkUq/Or3yXzq5arrfS0lj7fTr7yod0/pD09p4HdPaVB/TmW5c10nJLKAfYLTofzmU2GTAcCwEIQAACEIAABCAAAQhAAAIVQ+CqiVzJ5eQygT82GbxJMj+iV39ipi+aKYl2KqMRvCSbjP7OBpv3Kde0PxvJ9WNVnZYudyzRh4yoZASoAiJXvPIh8erjs9zVHe0Ki9mrQeZMUP853fDENkcgSsIak87J5bcpVySXpNGuA5pb7a2uaPJzvXZMF9MDjvjlTGM8fkjzq9v0+LYzuvL2Ga1f06Z7Vx9SErn2E83JNbBOS40oZQUsSeNFLkmn1unlFhPh9X43H9iWZeq9clm7W9+vxW1tujziJq1fvHOLhi8Pe/m9HtXuEZ/mhN+Y3FrFRG/ZsjlzctmW5IzkiitySWOd870pjNc4bRx8tUWjaVf8cgSyY+4Ux8Gtvbrydq/Or3qXzq5cOm5lStskXiEAAQhAAAIQgAAEIAABCEBgZhK4aiJXYqsrOuMWTijvvfem8dlIrW83n/DEr8/p50Gu7xy5rTJFriCR/e1a2LbJyff13g9Era7oimKFy4dErlBUWZQJ+tMVv/KQfv7MEv3o659zo9ZCUy6jjit2W9KrK/rnzyNymTJXhgZ0cP8xdXSf0xUjfJmIrtoD2v+WNLTTrNAYrLh4ptVEde3RhgSCm5JcXfHQLk+0arlRSzbf6jwXO2LWe7SwxXx+Qf7Cn5fOqPvwFu3tPqZh02Enouur2mhmaXY/6YhfK004onkcMZ/frzXd3udJvCS+uqJtS06RS4qcrmgTzfuRXG5FV84d1MW9LXrzyGnHDpyIrur5uviWNNpqktsHie3f2vZFnTUrNNo0XrYtvEIAAhCAAAQgAAEIQAACEIDAjCZw1USukwNnVeyURVPeHDf+YaO3btbDq+r0hQ/cLD8J/aEXnSisD73YoKVfNhFeD+nVUDJzK4I5UVp+xdkil6RDLzpTBN/3k4f0DWeqYD6Rq1D5CYhcVgzzI8k+p9lvJBDi4/X5wqUxFTtl0ZQ3x+V9FBC5Mo5Nn1Ltyjb9YvcFZ7MramWLXMHnjGOL/HDx8kkVO2XRlDfHZT9s1Fbu/F5PKnoNymFt2/5+Ldntqa6OqPUeZYpcoc/ZJy7i8zuXjqvoKYvL3y1zXN5HHpHLTzzf5K2caCrKTjwfVXm6Q+drrtG5Xa4duKJWtsgVfI6qgm0QgAAEIAABCEAAAhCAAAQgMPMIXDWRy6B+pe41NyrJ5qMq8GrK53q4ebhu1hf+0U1C/7DN7+2ttPje7/7YTUJ/04vaH6oktsilEb0+z4uiiiNy5S0/CZFLZtrlLJfb517Ufm+VyFCXJvx2R89ZbyXEYAphvkT0pnzBRxEi18Xde3Xvyi51e32ykVzrvfmJZ7YnF8ll2r3/VMqdNujkv3ITxecWqt7jlC/YX6+AFb6CxPMRR/b9Uks23qdtXu59P5LrsFf28KOJRXKZGke7XyxqyqIpX/CRR+TSkafc81U/pYvemF7a7OXWerVFufLHj+76ns7WPKUR7xg/ksvTF996g0iuguNCAQhAAAIQgAAEIAABCEAAAjOQwFUVuQxvI1wViugy+/MJXKaey288HhLMTAJ4O5rnVfd9E8HlPe0qid7u+CKXpON1utnWk3e6old5zvIhkcuvL9RGG7WlULnQNr21TbM/4pa/c1Wyc7aMcFUoosvszy9wuasj5hLIXu6yYxN6TZ9UbW2bXtwTik4b6tZCswJjywkNnTmhWpuoPnTYZN8aoatQRJfZb8oV8ygscg1r27b36LmOY0G1doXG7et0auiYtmw3ieqfVGcISVB4Yu8coWv5u/OLXcvf7Qhi+c5w8TV35USbuyv8GiSaP60LdW6erbOr7tPQq0acMsfdovN9OWo3UVzV12io/XJQ4NxqdwXGDa0aPd0aJKoPSvAOAhCAAAQgAAEIQAACEIAABCCgqy5ymTEwUxBNji6TjN4KXubVfDbbo6coZo1evztN0RGzvFUWbQmbcN7s86cxejuLErn0tnYtvN0TzApMV3Tqz1U+JF5NROQyetuKf3bb8ZGH9Ko7q8t2d9KvZgqiydFlktFbwcu8ms9me8Epiipe5HKmJq4+pGMZkWlpndm5R7NtcvqaPdrQn1Fg0n01FZgpiCZHl0lGbwUv82o+m+1RUxQLnbiQyHX5yJNavPEB7TYrLYYel448GVpd8VatmYJVBM0URJOjy0lGbwWv5e92PpvtBacoGmaxRC5TsEPnV/1hIKpVfVHnD15QrlF0piaapPJZBd5q/adQHf+kC+NnjYYo8hYCEIAABCAAAQhAAAIQgAAEZiKBkhC5ZiJ4+hwmkNaVN9/U6GiWsmGLjI7o4vkRXcmx2xYrp9f0m8MafjNHiy9f1vDQsC6FgplylCybzVdGLujy+Qt6u8AYvv3mBY2NRncrPRqvjuij2QoBCEAAAhCAAAQgAAEIQAAClU4AkavSR5j+QQACEIAABCAAAQhAAAIQgAAEIACBGUAAkWsGDDJdhAAEIAABCEAAAhCAAAQgAAEIQAAClU4AkavSR5j+QQACEIAABCAAAQhAAAIQgAAEIACBGUAAkWsGDDJdhAAEIAABCEAAAhCAAAQgAAEIQAAClU4AkavSR5j+QQACEIAABCAAAQhAAAIQgAAEIACBGUAAkWsGDDJdhAAEIAABCEAAAhCAAAQgAAEIQAAClU4AkavSR5j+QQACEIAABCAAAQhAAAIQgAAEIACBGUAAkWsGDDJdhAAEIAABCEAAAhCAAAQgAAEIQAAClU4AkavSR5j+QQACEIAABCAAAQhAAAIQgAAEIACBGUAAkWsGDDJdhAAEIAABCEAAAhCAAAQgAAEIQAAClU4AkavSR5j+QQACEIAABCAAAQhAAAIQgAAEIACBGUAAkWsGDDJdhAAEIAABCEAAAhCAAAQgAAEIQAAClU4AkavSR5j+QQACEIAABCAAAQhAAAIQgAAEIACBGUAgUuQ6c+aMeMIAG8AGsAFsABvABrABbAAbwAawAWwAG8AGsAFsoFRtIFu3ixS5sgvxGQIQgAAEIAABCEAAAhCAAAQgAAEIQAACpUwAkauUR4e2QQACEIAABCAAAQhAAAIQgAAEIAABCMQigMgVCxOFIAABCEAAAhCAAAQgAAEIQAACEIAABEqZACJXKY8ObYMABCAAAQhAAAIQgAAEIAABCEAAAhCIRQCRKxYmCkEAAhCAAAQgAAEIQAACEIAABCAAAQiUMgFErlIeHdoGAQhAAAIQgAAEIAABCEAAAhCAAAQgEIsAIlcsTBSCAAQgAAEIQAACEIAABCAAAQhAAAIQKGUCiFylPDq0DQIQgAAEIAABCEAAAhCAAAQgAAEIQCAWAUSuWJgoBAEIQAACEIAABCAAAQhAAAIQgAAEIFDKBBC5Snl0aBsEIAABCEAAAhCAAAQgAAEIQAACEIBALAKIXLEwUQgCEIAABCAAAQhAAAIQgAAEIAABCECglAkgcpXy6NA2CEAAAhCAAAQgAAEIQAACEIAABCAAgVgEELliYaIQBCAAAQhAAAIQgAAEIAABCEAAAhCAQCkTQOQq5dGhbRCAAAQgAAEIQAACEIAABCAAAQhAAAKxCCByxcJEIQhAAAIQgAAEIAABCEAAAhCAAAQgAIFSJoDIVcqjQ9sgAAEIQAACEIAABCAAAQhAAAIQgAAEYhFA5IqFiUIQgAAEIAABCEAAAhCAAAQgAAEIQAACpUwAkauUR4e2QQACEIAABCAAAQhAAAIQgAAEIAABCMQigMgVCxOFIDCNBC6d1IE9HerY06uhaTwtp4IABCBQXgRGdbLLXCs71Htusi0fUq9z3T2gk5eKrMtes7tOarTIQykOAQiUJoGho+615UA/3+rSHKHSatXYyJCGhoY0MiZZ2yn0uxS3XGn1lNbMKAL2/qYMfVJErhllqXT2ahMYOrBJzU3Nkc9NBzxJ69RW1aZSSqXWa//VbjDnhwAEIHA1CAwd0KYc18rmzQe8PwAGtLXWXCtTWp/zYjmmkSHX+TAOiP8cHlVa9vhabT21X+ud6655bztsjx3WaDrPNnvNrt2qAVuMVwhAoDQJHNsZeQ/m35u1HXfavb/RvbbUvlHgW71/vXMN4p6tNId7ulpl7cX8FoXfB+e3vyfB79DuV10ba9gVbHN+o4xSlvdhf7tSKmifeethZ6kQsDZj7mfyPaPGO+6x4++T0ho+sl3r62pUtSyl1PIa1TVuV/cF/4ZHsvc3ZeiTVoDIdUgba2q08aBrpt2balXTsFNnS8VqaQcEQgQG3qjNefHyL1xlfEEJdZW3EIAABCZOwL8ORtzw+WJScKM//ubNntqKV1n1OHXY43OJXPbYsPAVsc221W+XPTevEIBAyRHwRamsa4J1Lhtdxdw6jv69WY6OjO6u9+7r6rST8PsclCphs+tv1tTUKPtZv2MgQ9iytpP5u2R/O3LYnbU/8+rZYG5qvdpU49ZT9fqh3MXYUzYErM2kqqrG2VfY3oytZT+Ot0UHT1jhvn6FayuZ9igNtNb5PmmVsevlnm0uq9N2+2efvb9B5MrGPg2fT29XbapGm3rNudLab1TxgheHaWgXp4BABAErctVu6g4iCrzogmEbKlDGF5SILrMJAhCAQPEE7HWwdpO6wxFY5r0ThWWqtCJVvkgu61jUaaMzHXGj6owTgchV/JhwBAQqjIC9J0ut3jkuPYR1OvOKXOmTfjSpib6o2dSrUAxEhdGa6d0JRC4n6sX8jix3Ba94IpedEu9Og+1oSJHtpgAAIABJREFUXa8aK2ytWK/tHd528zt1NL9aOrKvQVX22FS9dl+c6WNT/v2Pdb3J0c2JiVyH1FxlRK0abeyxkYNj6m6pcYQvXzy192KIXDnoT+Xmw82qStVq+2lzEveGt3bryak8I3VDYMIE/BuqcUp9vXY6NqyyDg2dMBgOhAAEIBAm4N9YVcn5hzH073nwT2YxIped/m1FL1NvlecoEMkVRs97CMwMAmk/+iaValCHk4svuKbYKUM5Ra6x49peX+VGQqyq89JMpFS3uVvDKF0VbUJWkAhHxoS3hd+HQTh5u44f0s4N9aox08NSKVXZ6Jmaem3ccUjHvbxe4eOC92kNdzV74liV6upcQSJV06Ddp61QEZTmXfkQsDZT8+p2J8+oyTUa9YzKEWiPtdesXK9he5UTJGRs0N4beaxspOuq7W76Bf9eLKtcGaAt4+mKnqLuXRzcm2Dvx8YICGt3khujDAxwpjXRF7n8f2C80NBUaDpMGV9QZtp40l8IQGCKCPjXQXuNDF4DpzNwSDNu3jKaZEUte4NmPxcjclWp9lU7HaDeczBqtanHy6PSs8l1cJmumEGeDxAoZQLpEzb/qXttcaOwBrRzrRudY6N1guuNpLERDWWJFKma9dp/URo5aMWHlFI1ddq444B6T48I6aGUrWAibfNmDaVSqt89qtH+A44YsXG1a0fmt8iKDsHvUtqPkPEFiJp6beoaVjo9rAObA9HL3W+ia6xSmtbo8IB692zV+lWen5tKqW7bSaXTJ7XTCq2plGobt2r34ePyZ4ZMpHscc1UIWJvx7WOcn+jaV8b1yGupPTZqlpCfh9REwWfkerORXFVav2/YjUBND2t/o2tjRHJdFTOwJ3VFrion1M77p3e59+U34aOIXBYUryVEwIpc4y9SXkJKcwHynTvrlJVQB2gKBCAAgekgYK+DEcKRu4qVcR6LEbkatNuZ9rhbDebmsajpioHAlvcGNKKt04GKc0AAAsURSA/uVoP3J3nd1u1qcHyJzCgs33EMJ56/tF/rvbKpVJVqmzo0EFKx0oP7tXG1F11jrjNrd2ukuKZRuuQJBFNUzcwhe19vfxsiRS4jjh7eruaW7dretl/dxwd0Nnsa/uCAjh/Zr52t27Xx9e06NBQIpBnnqGnQ1iOeKOGwGlF363rVepFhZvrZpl4rkJU8TBroEbArbUZFb4W3TSaSKzud08j+9aFpr6H7nOWucO80zd6LZUd8lcHIlXEkl0vX+RGyc+l7N6kmHBFTBgNAE2cWgYwfqiiV3uSTK+MLyswaTXoLAQhMGQH/Ohi68cq4Zpo/AYoRubLqKUrkCkXaKogE86O7Xq11bxQRuabMHKgYAskQGNaBDd731VxP6twpOZlRWJtk1leMFLlMYpT9O7X7QK+GQuJWdtvGRo7r0K6t2o3YkI2m/D8P7XTzOhr7Wb1TA3EiuewUsIzfsKzfpHH7Qn90Xzqk3Ts6dKjfrAqc45Ee1dmjB7Szdf+4/HI5jmBzKRAotNpr5CrTO51rlG1+tkBmowrHTX2MyPU2dvqAtjbVq9ZJCVGnhs2Zwn05+6RlLnINaacJD33tgDvOzkWkQftzXgGsOfAKgatDYGBHfWjVjFrV+1NgmtW8eac6Dg9ozHfuQj9wV6e5nBUCEIDA1SFweqfqQ3m4ausbZFcKam7apJ17DmngchyRa/yy7U74vpO83h5PTq6rM8icFQLTTyDt5PJNqbZpv86G/AU3CqtWzV2jTqPGi1yjOtkVnScnHGmR/T4q8mL6e80ZkyIwFFqRLhUKrLD2EhnJda43Mr+SFSPqWqLsqtcVq3Icm21nmZ+9Y5PqNPVMHYHJCKA5bMPa1TiRy8nzlW0bca9r2cdNHZKkai5fkauAUYyfDpYUMuqBwBQTuHRSByIvRFN8XqqHAAQgUFYEgpuz3nOFGm7ymng5tLKniTifB3Syt1e9vSdDERo2aisqkiu0zf4xQSRXoUFgPwRKgEBaY2NpN79W5LXAvU4MnDDXg16d9EO2rCheKAIncz/+SAkMeVJNuLhf651prg3a2dbgLTqwVSfTQeRfpMjlnH9IBzbb3I7ua/0K11Zq6jO37zwWanABf9dOk8x85U/yEMHSfmumsua5DkXv86ayJmIbca9r5WdT5StyOeF9bgJYe3FwLhZVtWpoatamA/mXXy1ti6d1lU2gci8olT1u9A4CEJhuAgWneHtTPIIEv7laGPe6GxKv/KmJZgUsNxl1TY1N/Bsqh8iVCzrbIVC6BGI6iIFIFYjqGVEzLXWu2FHToO0RK6IRyVW6JlBUy8aOa+sqV5QySbnTGtB2+7l+uzY1uPtyi1zBogY1oSjl8Hu72EHG71lktM52NdS458sbBVZUByl8dQmkNXxku5rra2XtwBcul9eqfsNuHb8QCj01jZ2MQOZ3tsAfgHZhHXJy+cSm5423/OX6LnM6b7ULk9OIBwRKmoB1tsIrdoX+xbH5XcrwglLS2GkcBCBQdgSsyFW1Kjxd0V4vG1TrJYHOcAoie2mvuzVqaI2aGrLRy7MSEq9CIpd/s+nnTQmVQ+SKJM5GCJQ0ASty5RCntr/qJpAPRK4cvbH1EMmZA1BlbPaTdK9yI7ecXpnIrpqUjOiVd7qiUziHSBoSRu00s/i/ZykVLlsZ/Cu9F0NtnlieqlJNRnqGBtV7gmZqWYM6LmaTsPc2rug5/l4l2B59LSsgvtpF/crQJy3fSC4zxhmJ5t1BNksA84BAaROwF6SQkxRusHWYyvCCEu4G7yEAAQhMloAVuXLdnG2tDf49z3+uAtddX9DKcV3OV7m9ZuPk5qPEPgiUFoEC4lT+a0+oKwXqCZXkbVkTSOvkvt3qzhYZxkY1Gmu6ov0NCkSHXIJEYeEqqKtw2bKGPkMaH0QF1u+KWo91WDvrXbupa8ueqVZApKqp8SPD8t9H5Qi88BPfZya7L4eBKWuRK73PzIe2c0QPaH0qpegBLIehoI0zh4D9ccoRUdDaoBonWsDa9swhQ08hAAEIhAlYRzM6gWowZaPwjX6B6+6eqEiucEvyvEfkygOHXRAoUQJWnCKSq0QHqLyaVTiSy/4GpdSwK19+yCENOQuj5Ot/UFfh37589bCvNAikdeh1LxXCivXOwjrHbZ6u44e0+w3rF1ZpY0/xLba2Ga2RWFvK4ZOGIg0L5z4tvm1TeURZi1xTCYa6ITB1BOwFpdC/OYhcUzcG1AwBCJQDASty5frH224vfKMf97pLJFc52AVthMCkCViRy5+CHH1PFu0Yhs5u6yGSMwRl5r09tMHN27jxYGYS+oBE3N+glFIFbSmoq/BvX9AC3pUwgfRZ7W+qdfP7RV2TqmrVvO+ssrJyxepQPJEr+vpn77HMa7nZGiJXLPOgEASSJFAgyZ9V74e81TOSPDV1QQACECgjAunR4VgrD42MFepU3OvusDP1pFBtGfvtirhdJzWasYMPEIBAyRKImbR52MxFy/ewicH5/uejNKP2DR118z5mRr7E/Q2KE8kV5PfKPMeMwlyZnTXXpdO9OmAjqA70aqBgZF9+FNYeoxfBiG+Xhe+z8rdjuvcick03cc4HAQhAAAIQgAAEIAABCEAAAhCAAAQgkDgBRK7EkVIhBCAAAQhAAAIQgAAEIAABCEAAAhCAwHQTQOSabuKcDwIQgAAEIAABCEAAAhCAAAQgAAEIQCBxAohciSOlQghAAAIQgAAEIAABCEAAAhCAAAQgAIHpJoDINd3EOR8EIAABCEAAAhCAAAQgAAEIQAACEIBA4gQQuRJHSoUQgAAEIAABCEAAAhCAAAQgAAEIQAAC000AkWu6iXM+CEAAAhCAAAQgAAEIQAACEIAABCAAgcQJIHIljpQKIQABCEAAAhCAAAQgAAEIQAACEIAABKabACLXdBPnfBCAAAQgAAEIQAACEIAABCAAAQhAAAKJE0DkShwpFUIAAhCAAAQgAAEIQAACEIAABCAAAQhMNwFErukmzvkgAAEIQAACEIAABCAAAQhAAAIQgAAEEieAyJU4UiqEAAQgAAEIQAACEIAABCAAAQhAAAIQmG4COUWu//W//pd4wgAbwAawAWwAG8AGsAFsABvABrABbAAbwAawAWyg1GwgSkCLFLlKreG0hy8TNoANYAPYADaADWAD2AA2gA1gA9gANoANYAPYQNgGsoWunCLXO++8I54wwAawAWwAG8AGsAFsABvABrABbAAbwAawAWwAGyg1GzBiV/YjUuQyDU+n0/7zypUr4gkDbAAbwAawAWwAG8AGsAFsABvABrABbAAbwAawgatlA2GtymhX2Y9Ikau3t1dHjx51nj09PbLP7u5u8YQBNoANYAPYADaADWAD2AA2gA1gA9gANoANYAPYwHTZgNWlzKvVq4x2lf2IFLmyC/EZAhCAAAQgAAEIQAACEIAABCAAAQhAAAKlTACRq5RHh7ZBAAIQgAAEIAABCEAAAhCAAAQgAAEIxCKAyBULE4UgAAEIQAACEIAABCAAAQhAAAIQgAAESpkAIlcpjw5tgwAEIAABCEAAAhCAAAQgAAEIQAACEIhFAJErFiYKQQACEIAABCAAAQhAAAIQgAAEIAABCJQyAUSuUh4d2gYBCEAAAhCAAAQgAAEIQAACEIAABCAQiwAiVyxMFIIABCAAAQhAAAIQgAAEIAABCEAAAhAoZQKIXKU8OrQNAhCAAAQgAAEIQAACEIAABCAAAQhAIBYBRK5YmCgEAQhAAAIQgAAEIAABCEAAAhCAAAQgUMoEELlKeXRoGwQgAAEIQAACEIAABCAAAQhAAAIQgEAsAohcsTBRCAIQgAAEIAABCEAAAhCAAAQgAAEIQKCUCSBylfLo0DYIQAACEIAABCAAAQhAAAIQgAAEIACBWAQQuWJhohAEIAABCEAAAhCAAAQgAAEIQAACEIBAKRNA5Crl0aFtEIAABCAAAQhAAAIQgAAEIAABCEAAArEIIHLFwkQhCEAAAhCAAAQgAAEIQAACEIAABCAAgVImgMhVyqND2yAAAQhAAAIQgAAEIAABCEAAAhCAAARiEUDkioWJQhCAAAQgAAEIQAACEIAABCAAAQhAAAKlTACRq5RHh7ZBAAIQSJDAO1euaOzSRV26cE4XBwc0fPqkLgwc95/ms9lu9ptypvzVehRqq2k37b1ao8N5IQABCEAAAhCAAAQgUJoEELlKc1xoFQQgAIHECIy9NaKRc2d8MSssbNn3Q/3HdO5kn/vs79NQf5/Onzqmi+dOyxw/XY84bTXtOtfvtdW02WnvMdo7XYPEeSAAAQhAAAIQgAAEIFCiBBC5SnRgaBYEIACByRJ4+/JbTmSWFbKiXo1gZAStM8eP6kTPYfUdPqgT3Yc10NetsyeOOqKXKfPm4IBMfVP1iNNW037TlsGTvU77+o4c1LEjB9V/9IhOH+vR4IleX5yjvVM1UtQLAQhAAAIQgAAEIACB0iWAyFW6Y0PLIAABCEyYwFvDQ3kjt84PHJeJ3jJiVs/BTjU3b9Qvn1umX6dqtWZtoxpefU1bNm/R4c59joBkoqWMyGTqTfpRqK1hcet49yF17NqlXy+r1eJfpbS8Zo3T3qamDWrdtk29h7p09vhRDZ06RnuTHijqgwAEIAABCEAAAhCAQIkTQOQq8QGieRCAAASKIfDOO+mCUxPtdL+TPYe1r323Hn3yV/reTxfo2/fN06zvPKDv3Ddf9zz4hB5b9IJ+nVqhzj0dGjjW40RRGcHJTH0055nsI05brcB15thRdXd1qn7tet370JP68UNP6St3P6ivf+8h3T375/rJI0/rF8+lVLe6QUe69jtRaKafM7m9kx0fjocABCAAAQhAAAIQgEC5EUDkKrcRo70QgAAEchAwopFJHG+EnXxPE8F18uhhmeinxxe/qG/8YK6u/+Ld+qu//4Y+fecPdevX79U/3vMzffV7D+n+RxZqWXWduvbt1eBJk6fLrducZzJCV9y2utMT+7R75069XLVK9z70lL7wzZ/oA5/6mj566z/rlq/eozu/84C++aNHHNHrZ08+q3UNrznTLm30mWEx09qbw0TYDAEIQAACEIAABCAAgYomgMhV0cNL5yAAgZlEoFByeSt8mZxWRw8e0MuvrNQP/+fj+vxd9+mPrr3DEbk+f9f9+uGcxx2B67a77td375+vJ36xVFu3bHXydtnoKFOXOd9EH3HbagQ5k2+ruWmDfvbEs/ra9x7S3978Tf3hR+/QJ754t/P5W/c+qlnffUCf/dqPdd/DT+lXv17uRJ+Zfto+z7T2TnRcOA4CEIAABCAAAQhAAALlTACRq5xHj7ZDAAIQ8AjEyWtlBR+TZH5fe7ue/3W1I3L9zc136cM3f9OJ4nr4sWe0Z9cuPfvicn3/p49p0bMv67mlVdrUskmn+rr9KYu2ronk6CqmrWbFR5OHq7p2jZ5Y/KJuu+s+feSWf9Rf3vg1ffOHc/Vy1Upt2NCiOfMWO+1d8sIrevmVWnXsatPZE5kil2nzTGgvXwoIQAACEIAABCAAAQjMVAKIXDN15Ok3BCBQMQTMyoRWdIrzaiKjTFJ5M1XxR3Oe0J9+4k7d+e05evHlGh3av1enervV1rpDdWteVcuGTdrUsllHDux3Vi80Ceuzz1HMqovFttVEYx3Yu8cR5ObM+4W+8M37dd1t33FycJnplie6DzmrK65YudaZfmna27ptu7Pqolk1Mrut5nMlt7dijJqOQAACEIAABCAAAQhAYAIEELkmAI1DIAABCJQSgTh5uMJiz+CJXh3cv1dr6hu14Onn9cFPfk0PLfil9uze5a5M2N+nU71HHKGov/eIzNNERYWnKobrM+eP+yi2rUaoOnbkoLa/sU3PPP+KE71lplGuXbfeybtl9pvcWz0HDzjiXP/RI07EmYkAm4ntjTsOlIMABCAAAQhAAAIQgEAlEkDkqsRRpU8QgMCMITD21khktFJYhMp+P3TKTTzfsWuXGl59zclxdc8DT2h/R7sbrXXqmCMQ5RKJsuszn007Cj0m0lbTBiPKmbbu2rlTD87/hTOt0ohcJorL7A+e46PMotpaqe0txJ/9EIAABCAAAQhAAAIQqHQCiFyVPsL0DwIQqGgCcRO4h8Ues0KiEbrMVEATJfX0kpd03Re+o+eWLnemJZrILbOvGJErThL6ibTVtNu0w0Rrne7rdqZO3vGtn2rWdx5Q244dTvvN9Euzf6a3t6INnc5BAAIQgAAEIAABCBRNYHT4gi6OFn3Y+APGRnT+/IiujN9TclsQuUpuSGhQWRM4s1GL5y9Qzb6y7gWNLxMC71y5UnQUV1jsMu9NEvq+w136+vcf1qfu+J4eeXyJqmrWOKsTmtxcZtpf9jG5Ppv25Hok0VYjzJnpiL9eVqu/+ORX9c/3Puokxm9u3uhMVzR9yZWHK6rNldTeXNzZDgEIQAACEIAABCBQoQTO96q1oU4vLVuul5atVcvRC1kdHVD9k3P1WEP81CJZFQQfd6U0e05Ku4ItJfuurESusxue09z5C8Y9fUFhX924fUH5Ou0p2WGgYRVDoL9Rj82ZqxfK4dtfMdBnbkfGLl2MLUBFiTxmmxGFjDj0wss1+v2/+we9589u0p9+Ypa+9r2HnFULTx49HDtCyrQn1yOJtpoINDN10awMeeOXvq/f+uAt+u0PflYfueWfNPexZ3S4c58G+npiM6mk9ubiznYIQAACFUvg4hHVP/+kHnhwrmY/8oxe2NwbI8Lgik61LtdT8xfogYfnae7TKbUczf0HjQa3aonxPVbsH49xbETH29dqyeO5/9w8u3O5nnpkrmY/OE/zfrlWe86HqsFvCcGo3Ldnd9Zp8YJ5mj3Hs9PmI8p9tySd3bzU8Wd9/7Zy0czsnsW4fviAcl2HTjTqsQfnau7iOjW1tqmlIeV+XtYRsrEYIpcjXs11bdTYadbT92sRufwhSfTNqYZFmv3IIr3gKJVGrXSfLUe90xzd6m+z+15atlSPPTxXc18KD3aizaIyCAQEELkCFrybcgKXLpyLLejkErmMKGTEoZvu/KF+52+/oP/8V7c6r+/78Bd0/Rfv1uZNW3Ty6BFHXMpVh91u2pPrkURbh/qPqe/IQS14+gX9+fVf0TV/9Tld89ef0+9+5Iv6b39zm77y3QfV2dGhgb5uZ/qibVeu10pqby7ubIcABCBQkQTeOaH6hXM1e+EK7To2oEPNKc19cK6WbM2fH/Lshmc0+8FFWtU5oPPnT2hX9SLNfvAZNQ1GURpU02LP4XupI7OAd79nnUHfCQyVurgrpblzFmhJ8xGdOtahmqfnavaCtep5xyuE3xKiVYlvr+jQyicde3up+aCOG3tb85zmzpmrx17LEVUzuFFPGdGWP8wr0SCCPsW4fgSFc12HBtX09FzNq+sNipp3RviaM0+vdNrNMUQuW9S8Om1bpPr+8EbvPSJXBJQENh1f+6RmL2zW2SLqurgzpQceTWlXPsm8iPooCoG8BBC58uJhZ7IEil2pMFvsMaJRd1enTNJ5IxT99l/eqt/8i1v0G3/0Kf2r//Yx/dYHbtEtX/mxWjZucoQuE0mVXUf4c75VFifd1lPHZHJvra5/VZ/4wncdUcu07z1/drP+r9+5Tv/mD27Q+/7mNv3gp49p986dTtlw26LeV1J7k7UsaoMABCBQ2gRGty3V7DmZ4lRP3ZOuiJSz6YN6deFczc1wCl1H8bHXxqtcF7cu1exHV+iVpXM1O1vksufIed/Xq1UL5uqBqlAE2MXtWmKEuG2X7dHjXvFbxiEp7w0n9mvPmcwu7Kmap9nz16onc7OkEW391VzNrV6hFxC5xtGpyA05rx9Bb3Nfhzpy2Ikraj3VbK9pRYpcJxo1b84Crer22vDOZV08f0HnzXOzue4yXTEYnYTe7Xopz49M1DneOahXHi38r07UoWyDQE4CZ9pU88snNffheXpg/jN6oWG/ztp/5Xz1e0THNy/XU4/O0wOPLNBTK/aHwkbdms8f3apVv3pGc22ZZW1BPabI+Q6tWrZVPSpcl94ZVOuK5zTP1vXSRh1C2M05hJWyY/j0ybyiU5SwY7cZgcvkt3r2xeX63Q9/Uf/fn97kCFy/+YFb9C+v+Zj+ze/foD++9kv675+YpRv+4W7t2bWrYL4r055cj8m01bTZCFxmmuKXvz1H/+kvPuNEnJk2/4c/+bT+j//2cf379/+9PvTpbzjtve/hp9RzsNNJrm/7G/VaSe3NxZ3tEIAABCqRwJ5lczV78UaFZ/+pe63mznlS9Sdy9dh19uatzSzQujQiX40VpLaOKK//kctJPdOcFU1h2nTZETFmL22LbiB+SzSXCtvqzEyKEAocMePBpdp6MZd4UWEg6I4XNZUnzU3e65B3PcsQ7SVd3KrFk4jk6lnzpBNJ6EeIefmmnRRQZup1hO2W4lCWVU4u50fm+WZ1Nq91Eqs1tffqvBUXIuiebX6mwD86EQexCQL5CIzu10uPztXc5zfq0MAFHW9v1AsLnwluqJybnQV6bOECzV2yVi2tbWpa5l4sMv65Myr5g09q8YqNau08qM7m5Zpn5lRXHwzO7tQ1T/MeL1CXDdl/fLmaOk/o/LEOrVqywIl6PBXUxrsKJBAl3MTZZlYhNHm4tmzeqhu/9AMnYstERZnpiv/6967X//5fPqp///4b/eiu3/8f/6A3tr7hrmA4kD+aKxfmOO2KKuOsBNl/TEcPHXCSzL/vb7+g9/zpTfrja+/Qf/rzzzgRZ0bkMlFopp3/8c8/ozu/M0dd+/YWFOXM+XI9otoSZ9vVam+ufrAdAhCAQOURcJ272ctCUVKmk6PbtaRABMyp1xZp9qNL1TLg5eEa7dALjywITe0xFY2odek8zf7VducPygmJXM60nkV6NSuKp6dugWY/2aio+zP8lsqz1KgeOTaQHcl1sU0vPGIDMxC5orhV5LZcIrnT2cLXodE9y51p2o8t26jW1ja1NtfpKeOnZqRpKiKSyxHVFuiVDSbX16LAv7Xwma5oSST56s1HfXiRlphcXC8954gCs+cvzzEV0Q0TDkL1kmwLdc1YAs7FKM+/hN7F6rGMfwlPqP7xiCjELIHW+dF7cHmwQELMutz8Euafn9ComBu9B8PzsUP7eFsxBOKILlFlzvX3qe/wQd3/8FP6k4/fqX/3/hv1X/76c07S+f/zfdc5Ite7fvc6R0D6l9dcqw/f/I9OFJU5rtCUxVxwo9oRZ5tZUfHsiV5t3bzFSYz/Ox/+ohPJ9Tsf/oL+79/7hP7Vf/2YTBv/7R99Uv/bez+i/+cPbtCP5jzhRnL1F14ZslLam6sfbIcABCBQeQRyOW2uOPDUhuzVxcIERrSnyv3z8bGX1qpmyQI91pAZ2eVMGXQiatzjJi5yjZ/W4+YXXiE/XY7fNPwWH0Ulv3nHm8Ya/lM7S1SVELkq2QQy+pZH5Ip7Hbpy7oha1izXkqef1OKX6lTfPpC1AEeu62VGS6Qz2/XC/EAgO25yoT/4pF5qDdWHyJUFLamP71zRlbAwcH6rM7d93pqshGvmfEfXal7ekOWkGkU9M4qAF8k1++k67ToRkVMhx8XKuUHKDqv3wF25OKBD7W3auuKZzBDQWHXlCn2PeUGbUYNXeZ2NIxJFlTnRc0grVq7Vn9/wFf3B393u5Lf6g4/erv/45zc7kVz/+a8+p//3v3/aeW+mMn73/p9r9ZpXneTzJgosqk67LRdlu7/YVzNNsb2tTTfc/j2nrb/3kX9wxC4T0fXuP/ykfuOPb9RvffCz+o0//pTe9buf0N/e/E3d9/BCJy/XuZPTL3Jdrfbm4s52CEAAApVHINc9jisOROXXsgyuHG3UU488o5rNG1WzeIEzLeexcEoJM1UsK9VJ4iJX+A9N2zD8Fkuiol/dP6Yzc8k5CxSERFVEroo2gczO5fD1VOR1aHTYy5llc2dlvA7q1NFeHT+faxXZKzq05hlIxj+BAAAU4ElEQVRnldq5S7dnpM4xq8Oa1Rv9oCFErszxm8pPZh59VDL6887qKaGomKlsBHXPLALn92vVL91/AWcveE41YYU7x8XKuUHKCE/3lrA2c5sf8ZT3qiJELr8u90bPru6T/fpYQ47VW2bWiFVsb4vNc2UEqsETvdq7e7c+fecPZYQiM+Xvtz/4Wf3eR76of/fHNzqf/+uHPu8kcv/jj31JD8z/hT7zlXu0Y3urBk/2Kp/IlXSOKyNS9Rw8oJ8+ukj//bo7nWmVv/kXn9Hv/Y9/cKYsmvaaaYom+fy/+f3r9bHPf1s/nPO47n94oQ517lMhkauS2luxRk7HIAABCIwj4N77PJARDSPpnbYciZi9CiKmJp7vWus4ce5qd5e1Z9kCzV6wXE1m6o/3rDErLC6uU2vrfh0fzWpMjvs+Oc7gM2rKSBomOYto+fdwQV34LQGLin1nVr17MGtlRe/P83kpb7qZY3N1emrOXD21sk2te04o2+Qqls9M7Fjk9aPY61B+X9D6hnl9wsEj2nU0RwTs2JUgMgyRa/qsdLx44J7bSUgZ8SMyfS3jTBVPYPSEWpctcv4FfGqDt4JF5MVKbtLSkD36S1h3hS4o2ReOWHW5KwXlXPWn4gdhZnew2BULzbS/3kNd+uaPHnGEof/wJ3/vJG7/k49/Wf/xz252tr33g5/Vn143y0nsbhK4m/xWjzz+rI4e6sorcJkIrSRXKzRi2omew3q5aqXeb9r35zfr3/7Rp/Rf/upzMiLcv3v/3zsC1/v+5gsyUxfN85XqOqe9r1SvdpLq5xPkKq29M/ubQO8hAIGZRsD5k/tX2zMFgOxVwbKgjJrVErNzIckTnpztg2paskBOguX5wesDD87V7Afnae7859SUlWNLOe7VlKMtke2WhN+SNViV9vF8mxMhmJkrSVI4qbdvc/Mc32L2IyYn70adrTQW9CcgEHn9mMB1KKgx4l2uyNeIos6iZ2u1K0uc90tm+6r+jtJ7Uz6J57OnKjos3XnN4x18HP/SM7VKbZE3XdAuLR15sRovcjnibPbqOtkXjph1OatgPLJCe8JTeSsVN/3KIHDpwrm8UweNkONEb53s1enjPU5U1OO/eNGJhDIrFBqRy4hGf/3pbzh5rkxUlBG5TNTUzbN+pDnzFutTt39P+9p361Rvd8FzmfbkesRtq4m+MknxzfmamjboU1/6vt77l591cm2ZiLM//LvbHUHrtz94q377Lz/rTrX8u9v1syee1bd+/DN9+955OrR/n1NHoamRldTeXNzZDgEIQKASCbiRTyntCt37OInb89wPOcdE7HfyZEVNIfTATWi6og7qlUeyVm18Z7+zzZ/64w8MfouPohLfWIFryUYdD9lr7q6Skys3mwrbk8PXi+pl7uvQBe1as1wvmZzlkc+UHsu+FkWdwGxz2rNI9f05Cpw7otbWI5mr2uYoerU3l43IdWjlAs1+fLlaDg9q1FwgnCgaM2XsSa3qzsboJfrOXnUluxifIVAkAbOKxVPL2oJwdfvDteKIW1OOi1V2xKHzj92jKbU6SvkVne9s1OJHs5ZljVmXnbdt/u3psTHNoye0q/WIsypQkV2keBkRuHzpYqTwZIQt8xzqPyaTI+pw5z7t2bVLy5av0oduusuZ9mcio0yS9v/8V7fqA5/8qq750OcdgeuPrr1D7//Yl3TvQ0/plq/co6WpWp3qPVJw6p8RlEx7cj3itNVMpTSrKBpRbffOnbrtrvt1zV9/Tr/5gVv0r3//ekeU+8OP3q4//OgdzjbTZtPeW756j376s0WOWPd680anz0Mxks5XUntzcWc7BCAAgYok4E3zemzFQXelde9+zF/23rgKZuWxOXO1eLMXbT+4UU+Z6WJ13jEGjL2PW7Y/MyosBC3KufRz4HSZHMBztWSzlxPnYpD3xlnJ8RG7kuMV9aw1iZyzFgpyzoPfEsJdWW/PbNeSR+fqgYVrtWcwM2/SRXvPPq7HiFzjkFTYhjjXj+wuR12H3DJupNbcl8JTXoPp1nba9Z6oXNLZJykkcmWXL+HPZSNy6Z1BZ2qYEzI8x4gBczX74UWq2TcSgddLPEk+ogg2bJoMgSsDbXppoRdG7NnhA4sb1TPm1RpXmDrnrmDx/7d358FVV2cYx//vTGe6L9PW6dROV1q1Kq3V1rZWbbWKIojUiqAISNlEVMJiIAuCCUlIIIQESCAQFtkLhBB2ISsJ2QlkgRAWFctSGG0LnafzviFIEDS5Yntz+TpzJ9td3t/nHDK5j+e8p3WfdNSMNaqo3aiEyEtO4mnvc9lLv1OihUkX/l1cqCs2Y/sHdX2Si+axQStw/ty/ZSceXrwdafIwyrYlHjlQ79v96vdWa8f2N7Vufa569A/T937V23tx2YmK1tPqtgee0QN/Gamf/eEZX+H1k9/38XCr77CJejE8ThV7Sr0XlwVmF8OzCwGaBUn22vbRfm71XO2/q9VqwdbRgw1qbtivQ/X7VFRQqC2bt2nE2BjZVkRbaWZ9w+wkRQvkLKT71aPP66Z7n/bbHQ8P1MBR0br3ieGaNXeRr1bzmi4EfR72Xaj3g1pDr96rufN9BBBAIGQFDm/x0Kr1b6nLmyaf3Jnu7xcuPaDqzP6NSpna8vdSlPVFjZys2IVtmy1f7vXhN5cf0QOndWW/P8lZlVqPr9b3LdFpWr2f9y2X+4bu1xdW6LWO/2Ufr94jiZArdOeEXVl7f3+0Vfjw76HWn3dgO2LrQ6720d97Jml1bdtA9mSbRvandKb1fe/VnicIvt95Qq5WrP/8U2cc+uwHTdBaf8ZHBP5XAu+flf+Dv+T/2HX8pc+1zOVP9BxtX/XcmZZfSp3hl0/byvkqUIHysgrtLipSfl6+8nblqTC/QLm5W5WzcbNWrclWbFK6N4/vM3SCrPeWnZp445299OWbHtYNXR/z793fe4Ru++OzuuW+fh4iPftChH7z2F81c06W9pSU+Ooqa+S+r6pSeyvLZcFZeUmpSoqLVZBXoKryMjXW1X3sJZSVlWt3YZEK8gsu1rp1yw7l5GxWdnauZs7O8hVZfx09Wfc9Mdz7blnAZWHc5378gJ+uaAHXnQ8PVNcHn5OdtPhIv5f9vn8ePF7rszeppqJcjbU1vmWxtqpC+6or/XM7odHqtRAtVOv92AHgDggggEDICXz031Lvn77y+4XWlRT/k7+X/G/Gsy07UULOnwtCAIH/r8BHhGZtgtVLFlJcreAr9oj7oD9ha7/C5VVXe4Lg+X7nC7mCx45KEEAAgf+7QFllrV59bbrGRCVpUnyaomJnaer0dKVmLNaE12cqeuoshUUl6vYH+stOS7ReXBYY2fY/O5XQenB1e/olfeO27vpm18f8hEK7zz2PD9XIV6dqdMQ0RcelKjImRfHJGZqftVxz5i/VtJT5SkzJVERMiqbOyNC+ugMfa2G1hk+e0VJrXJqip6Z6U/vU9MWyJvevxadp/KTpstDtrkcHeRhnzeY/3+XBi03n7RrsJEhrlH/DL3ronl5D9f1f99azL0RqVHicxk1K8l5idirk9NRMzc9aIXv+hJnzlDQr038Wlxya9X7sAHAHBBBAAAEEEEAAAQRCXICQK8QHmMtDAIHQFxg5IUF9h0/QwFGTPMT529ocFeTla1JcqiZMSfYTBwe9NEm/7zXMg6zPfO8+faHLn3yFlG1fvOOhAfryTQ+1BF23d/fTC1+eGO/PZc3n46ana3JCmodQFmxZiJYwc76HR3Mz31B2ztZ2I48MT9DTwyZowKhojYlK1LIVa301WEzSXA+4XhgfqwEvRnk/Llt19qWfPqTP/vCP+uot3XTDz3v4FsXv/PJx7ydmX9tqtIf6jPJAb2LMTL/muBkZXntM4hwP46zexFmZSstYovQFy0K63nYPBHdEAAEEEEAAAQQQQCAEBQi5QnBQuSQEELi+BApLq2XhUHzyPG3btsO361mz+THRiRoSNkXzFi730wdtC6Ct3rqhaw/94O4nPeT6Xc8huvUPz+hbP3/MV0fZqikLjWxl1OMDxuiJgWPV+/lx6j8ySk8OHq+eA8K80fvQsCkaOX6qRkdOU3XthYMX2sFeWFqlYWNe93o2bNikur3VOri/VpMTZsu2SdoKseQ5Wf5adtqjBV3Wl8t6iN34y166t9cwff/uP/vKLvu5XY/VZU3qe/Qf7fX2HTZBz4yI8Lp7PDfafzZ8bIxGjo9VWGRiSNfbjiHgLggggAACCCCAAAIIhKwAIVfIDi0XhgAC15PAopUb/ETCt5sb/XTBA/v2alJ8qsZGJ8lWW/UdPlG/7j7Ym7nbSql+wyP8VMXf9hyiO7oN9F5c3Z99RV+5uZtuf7C/97/qck8f/2jN6e1Uw5vv6+v3u7v7YD01JFwvTYhX1vLsDjMvWb1RxYWFequpwWs93Fjnq8MslLOQ6+WIBO8VZs3k73pkkAa/0tKjq+uD/WWhnDXHHx2ZqBvv6qVvde3hIZ315+ryu6f8tEWr1U6ItG2Nds229dJCr1ciErRg2fqQr7fDF8gDEEAAAQQQQAABBBAIEQFCrhAZSC4DAQQQOH70sE4cO6Tjhw+oobZGtVWVfjqina44+JXX/ARFO0XRthzalj5b5TViXKyvoIqdPtf7b/3ot3/R1299xFd5WcP3L/7kT75qyrYLWt8uW/HV5Z6WMOn50TEBo79zpNlPZrTTFZvqar1BfHV5Wcs2y/hUD7luub+f+g2fqJQ5i3zVmDWkt5o9XFuySvf3tpVpPbxeq836d9n2Rqv167c+6vV++46eHorZarXBYddPvQEPDA9EAAEEEEAAAQQQQKATCxBydeLBo3QEEEDgUoHz58/p9PFjOnqwXrZd8d0jB3WksU4739yl5NkLfZugbRVMz3xDs+ctUcbCZX6CojVmt5MUw6ckq8/QcNkJhrZqynpefeXmh/XN27vLTjn8wW+e9FVTd3YbpD7DI/XuiVOXvnyHPm+t9a1DjX5ao9V6rKlB5aUlWrhkpSzQsu2Q1kA+Y8EbSstYrAWLV2p62gLvrRWbNNcbzXfr+5LXa6u4LOT62i3dLp4gaYGdnShpq8H6DIvQ30+c7lCNl965s9V7ae18jgACCCCAAAIIIIDA9SJAyHW9jDTXiQAC14XAf86f19/fOuJB19uHGlW3t0q2Qmpj7hblbNwsa0pvn69ek62UC8HWiHEx3lvLgqWnhob76ilbQdVr4BhZTyvrydVnSLivorLeX5Hxc3Tq9JlP7Gm1nni7pdZ3mhvVVF+rqrIy2cqz3E1btHbdRq3PzlV2dq4WLFqhKdNm+5bDF8PjvNH8E4PGehP7/iMj1XvQONnXPZ8L8x5dtp3SToe03mHRCXOvy3o/8QDxBAgggAACCCCAAAIIdDIBQq5ONmCUiwACCLRH4B8njqu5Yb+v6LL+XNXl5SrML1BxQaEHRhZ2zcta7iulLOyaPG22n2o4KjxOYVGJHg7Z51Gxs3zFlAVGETEp2rh1V3tevkP3OfXuOzrWVK/9NVXeNH9/dZU30Ldwbu26HK1cvV5Llq3x1WiT4tOUlJopO/3RVp3ZCY0vvhrn9Y6JTNTE15P1wrhYvTwxQXbfzdvzO1RLe+7c2eptzzVxHwQQQAABBBBAAAEEQkGAkCsURpFrQAABBK4gcOrkSTUfaPDTC2sqypS3M89Drvxdeb5KyoKu+VkrtGLVOi1dvkbxyRlKnJXpYdbEmJm+0istY4n370qbv0wVNXVXeJVr8y2r9WB9nQ7W1XrYtX3bDpUWF3uPLlt5tmbtBq1ak+31Wuhl2y2nJMz2ml+dPEMxSXM1Z/5S33ZpWxlT0peqvHr/tSnuCs/S2eq9wiXwLQQQQAABBBBAAAEEQk6AkCvkhpQLQgABBNoK/OPUSR1sqFfd3mrtq6pUbWWFtm97U7t27vKPublbtXDxSg+IMhetkN2sb9ff1uWouLhUR48ea/uEn+JXp0+eVFNjg9dqK7qs1oK8fO3amac3d+zUls3bfWXX3MylmpG2UFlLVil9wRu+Oi1301av9wj1foojxFMjgAACCCCAAAIIIBC8AoRcwTs2VIYAAghcU4Fz//6XLPB6962jOtRYr71VldpdWOR9sLZs2aYNOZuVl1eo8ooqNTU167333rumr9+RJ7Naz54+pePHjujwAestVqM9u3f76q78vHzvK7Yue5PyC4pUYfUeatY/33+/Iy9xTe/b2eq9phfPkyGAAAIIIIAAAgggECQChFxBMhCUgQACCCCAAAIIIIAAAggggAACCCAQuAAhV+B2PBIBBBBAAAEEEEAAAQQQQAABBBBAIEgECLmCZCAoAwEEEEAAAQQQQAABBBBAAAEEEEAgcAFCrsDteCQCCCCAAAIIIIAAAggggAACCCCAQJAIEHIFyUBQBgIIIIAAAggggAACCCCAAAIIIIBA4AKEXIHb8UgEEEAAAQQQQAABBBBAAAEEEEAAgSARIOQKkoGgDAQQQAABBBBAAAEEEEAAAQQQQACBwAUIuQK345EIIIAAAggggAACCCCAAAIIIIAAAkEiQMgVJANBGQgggAACCCCAAAIIIIAAAggggAACgQsQcgVuxyMRQAABBBBAAAEEEEAAAQQQQAABBIJEgJArSAaCMhBAAAEEEEAAAQQQQAABBBBAAAEEAhcg5ArcjkcigAACCCCAAAIIIIAAAggggAACCASJACFXkAwEZSCAAAIIIIAAAggggAACCCCAAAIIBC5AyBW4HY9EAAEEEEAAAQQQQAABBBBAAAEEEAgSAUKuIBkIykAAAQQQQAABBBBAAAEEEEAAAQQQCFyAkCtwOx6JAAIIIIAAAggggAACCCCAAAIIIBAkAoRcQTIQlIEAAggggAACCCCAAAIIIIAAAgggELjAFUOu5uZmccOAOcAcYA4wB5gDzAHmAHOAOcAcYA4wB5gDzAHmAHMgWOfA5XHYFUOu797ZUx9125lXKG4YMAeYA8wB5gBzgDnAHGAOMAeYA8wB5gBzgDnAHGAOfFpzYFd+kfIKipVfuFuFxaUq2r1HJXsqVF5Zo6qafZdnXAoo5CooKhE3DJgDzAHmAHOAOcAcYA4wB5gDzAHmAHOAOcAcYA4wBz6tOdAabFm4VVxS5gFXWUW1KqtrVVNb96GQ679UaAvzOhI0xgAAAABJRU5ErkJggg==)"
      ]
    }
  ]
}