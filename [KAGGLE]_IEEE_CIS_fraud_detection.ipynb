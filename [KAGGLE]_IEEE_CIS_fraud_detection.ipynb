{
  "nbformat": 4,
  "nbformat_minor": 0,
  "metadata": {
    "colab": {
      "name": "[KAGGLE] IEEE-CIS fraud detection.ipynb",
      "provenance": [],
      "collapsed_sections": [],
      "machine_shape": "hm",
      "mount_file_id": "1m5zqNKX1kBWTK_DI5Fcsp0OJNQ5RuP9j",
      "authorship_tag": "ABX9TyMEHJE0UlRG1cYCrUtnW0CM",
      "include_colab_link": true
    },
    "kernelspec": {
      "name": "python3",
      "display_name": "Python 3"
    },
    "accelerator": "GPU"
  },
  "cells": [
    {
      "cell_type": "markdown",
      "metadata": {
        "id": "view-in-github",
        "colab_type": "text"
      },
      "source": [
        "<a href=\"https://colab.research.google.com/github/sejin-sim/Competitions/blob/main/%5BKAGGLE%5D_IEEE_CIS_fraud_detection.ipynb\" target=\"_parent\"><img src=\"https://colab.research.google.com/assets/colab-badge.svg\" alt=\"Open In Colab\"/></a>"
      ]
    },
    {
      "cell_type": "markdown",
      "metadata": {
        "id": "QRdpGyK0EKN6"
      },
      "source": [
        "# 사기 감지 (fraud detection)\r\n",
        "\r\n",
        "anomaly detection\r\n",
        "\r\n",
        "데이터로부터 p(x) 를 만들어, 검사할 데이터가 threshold 를 넘는지 안넘는지 검사해 anomaly 로 판정할 수 있다.\r\n",
        "\r\n",
        "참고로, anomaly 가 너무 많으면, false positive 가 높은 것인데 이 때는 threshold 를 줄이면 된다.\r\n",
        "\r\n",
        "Categorical Features - Transaction\r\n",
        "\r\n",
        "- ProductCD\r\n",
        "-emaildomain\r\n",
        "-card1 - card6\r\n",
        "-addr1, addr2\r\n",
        "-P_emaildomain\r\n",
        "-R_emaildomain\r\n",
        "-M1 - M9\r\n",
        "\r\n",
        "Categorical Features - Identity\r\n",
        "\r\n",
        "- DeviceType\r\n",
        "-DeviceInfo\r\n",
        "-id_12 - id_38"
      ]
    },
    {
      "cell_type": "code",
      "metadata": {
        "colab": {
          "base_uri": "https://localhost:8080/"
        },
        "id": "jAYjH_ZuCS7f",
        "outputId": "55573de0-e3b6-4152-9792-8edfe8a53ba9"
      },
      "source": [
        "! cp /content/drive/MyDrive/kaggle/kaggle.json /root/.kaggle/\r\n",
        "! kaggle competitions download -c ieee-fraud-detection"
      ],
      "execution_count": null,
      "outputs": [
        {
          "output_type": "stream",
          "text": [
            "Warning: Looks like you're using an outdated API Version, please consider updating (server 1.5.10 / client 1.5.4)\n",
            "sample_submission.csv.zip: Skipping, found more recently modified local copy (use --force to force download)\n",
            "test_transaction.csv.zip: Skipping, found more recently modified local copy (use --force to force download)\n",
            "train_identity.csv.zip: Skipping, found more recently modified local copy (use --force to force download)\n",
            "train_transaction.csv.zip: Skipping, found more recently modified local copy (use --force to force download)\n",
            "test_identity.csv.zip: Skipping, found more recently modified local copy (use --force to force download)\n"
          ],
          "name": "stdout"
        }
      ]
    },
    {
      "cell_type": "code",
      "metadata": {
        "id": "C4bFsiHBSLsH"
      },
      "source": [
        "# ! git clone --recursive https://github.com/Microsoft/LightGBM\r\n",
        "# ! cd LightGBM && rm -rf build && mkdir build && cd build && cmake -DUSE_GPU=1 ../../LightGBM && make -j4 && cd ../python-package && python3 setup.py install --precompile --gpu;"
      ],
      "execution_count": null,
      "outputs": []
    },
    {
      "cell_type": "code",
      "metadata": {
        "id": "4Z7gLJBxCtec"
      },
      "source": [
        "import pandas as pd\r\n",
        "import numpy as np\r\n",
        "import matplotlib.pyplot as plt\r\n",
        "import seaborn as sns\r\n",
        "from sklearn import preprocessing\r\n",
        "%matplotlib inline"
      ],
      "execution_count": null,
      "outputs": []
    },
    {
      "cell_type": "code",
      "metadata": {
        "id": "0lpuxf13DBfd"
      },
      "source": [
        "train_transaction = pd.read_csv('/content/train_transaction.csv.zip', index_col='TransactionID')\r\n",
        "test_transaction = pd.read_csv('/content/test_transaction.csv.zip', index_col='TransactionID')\r\n",
        "\r\n",
        "train_identity = pd.read_csv('/content/train_identity.csv.zip', index_col='TransactionID')\r\n",
        "test_identity = pd.read_csv('/content/test_identity.csv.zip', index_col='TransactionID')\r\n",
        "\r\n",
        "sample_submission = pd.read_csv('/content/sample_submission.csv.zip', index_col='TransactionID')\r\n",
        "\r\n",
        "train = train_transaction.merge(train_identity, how='left', left_index=True, right_index=True)\r\n",
        "test = test_transaction.merge(test_identity, how='left', left_index=True, right_index=True)\r\n",
        "\r\n",
        "y_train = train['isFraud'].copy()\r\n",
        "del train_transaction, train_identity, test_transaction, test_identity\r\n",
        "\r\n",
        "# Drop target, fill in NaNs\r\n",
        "X_train = train.drop('isFraud', axis=1)\r\n",
        "X_test = test.copy()\r\n",
        "\r\n",
        "del train, test"
      ],
      "execution_count": null,
      "outputs": []
    },
    {
      "cell_type": "code",
      "metadata": {
        "id": "Zd5wo1JXEWaM",
        "colab": {
          "base_uri": "https://localhost:8080/"
        },
        "outputId": "b3fde833-232d-439e-b091-051668b33d5c"
      },
      "source": [
        "y_train.value_counts()"
      ],
      "execution_count": null,
      "outputs": [
        {
          "output_type": "execute_result",
          "data": {
            "text/plain": [
              "0    569877\n",
              "1     20663\n",
              "Name: isFraud, dtype: int64"
            ]
          },
          "metadata": {
            "tags": []
          },
          "execution_count": 19
        }
      ]
    },
    {
      "cell_type": "markdown",
      "metadata": {
        "id": "PBKoLlnOEjCU"
      },
      "source": [
        "train target = binary 형태\r\n",
        "\r\n",
        "test target = roc curve 확률"
      ]
    },
    {
      "cell_type": "code",
      "metadata": {
        "id": "ZFJAdK6wPdO9"
      },
      "source": [
        "X_test=X_test.rename(columns={'id-01':'id_01','id-02':'id_02','id-03':'id_03','id-04':'id_04','id-05':'id_05',\r\n",
        "                         'id-06':'id_06','id-07':'id_07','id-08':'id_08','id-09':'id_09',\r\n",
        "                         'id-10':'id_10','id-11':'id_11','id-12':'id_12','id-13':'id_13','id-14':'id_14',\r\n",
        "                         'id-15':'id_15','id-16':'id_16','id-17':'id_17','id-18':'id_18','id-19':'id_19',\r\n",
        "                         'id-20':'id_20','id-21':'id_21','id-22':'id_22','id-23':'id_23','id-24':'id_24',\r\n",
        "                         'id-25':'id_25','id-26':'id_26','id-27':'id_27','id-28':'id_28','id-29':'id_29',\r\n",
        "                         'id-30':'id_30','id-31':'id_31','id-32':'id_32','id-33':'id_33','id-34':'id_34',\r\n",
        "                         'id-35':'id_35','id-36':'id_36','id-37':'id_37','id-38':'id_38'})"
      ],
      "execution_count": null,
      "outputs": []
    },
    {
      "cell_type": "code",
      "metadata": {
        "id": "6o9peZceNOP4"
      },
      "source": [
        "# 데이터 프레임 데이터 타입을 바꿈으로써 전체적인 데이터 사용량을 줄임\r\n",
        "\r\n",
        "def reduce_mem_usage(df, verbose=True):\r\n",
        "    numerics = ['int16', 'int32', 'int64', 'float16', 'float32', 'float64']\r\n",
        "    start_mem = df.memory_usage().sum() / 1024**2    \r\n",
        "    for col in df.columns:\r\n",
        "        col_type = df[col].dtypes\r\n",
        "        if col_type in numerics:\r\n",
        "            c_min = df[col].min()\r\n",
        "            c_max = df[col].max()\r\n",
        "            if str(col_type)[:3] == 'int':\r\n",
        "                if c_min > np.iinfo(np.int8).min and c_max < np.iinfo(np.int8).max:\r\n",
        "                    df[col] = df[col].astype(np.int8)\r\n",
        "                elif c_min > np.iinfo(np.int16).min and c_max < np.iinfo(np.int16).max:\r\n",
        "                    df[col] = df[col].astype(np.int16)\r\n",
        "                elif c_min > np.iinfo(np.int32).min and c_max < np.iinfo(np.int32).max:\r\n",
        "                    df[col] = df[col].astype(np.int32)\r\n",
        "                elif c_min > np.iinfo(np.int64).min and c_max < np.iinfo(np.int64).max:\r\n",
        "                    df[col] = df[col].astype(np.int64)  \r\n",
        "            else:\r\n",
        "                if c_min > np.finfo(np.float16).min and c_max < np.finfo(np.float16).max:\r\n",
        "                    df[col] = df[col].astype(np.float16)\r\n",
        "                elif c_min > np.finfo(np.float32).min and c_max < np.finfo(np.float32).max:\r\n",
        "                    df[col] = df[col].astype(np.float32)\r\n",
        "                else:\r\n",
        "                    df[col] = df[col].astype(np.float64)    \r\n",
        "    end_mem = df.memory_usage().sum() / 1024**2\r\n",
        "    if verbose: print('Mem. usage decreased to {:5.2f} Mb ({:.1f}% reduction)'.format(end_mem, 100 * (start_mem - end_mem) / start_mem))\r\n",
        "    return df"
      ],
      "execution_count": null,
      "outputs": []
    },
    {
      "cell_type": "code",
      "metadata": {
        "id": "-laGrCUeM6KN",
        "colab": {
          "base_uri": "https://localhost:8080/"
        },
        "outputId": "3c8d1727-1eef-4a1a-9aab-89ba991f7344"
      },
      "source": [
        "## REducing memory\r\n",
        "X_train = reduce_mem_usage(X_train)\r\n",
        "X_test = reduce_mem_usage(X_test)"
      ],
      "execution_count": null,
      "outputs": [
        {
          "output_type": "stream",
          "text": [
            "Mem. usage decreased to 667.66 Mb (66.1% reduction)\n",
            "Mem. usage decreased to 583.43 Mb (65.6% reduction)\n"
          ],
          "name": "stdout"
        }
      ]
    },
    {
      "cell_type": "code",
      "metadata": {
        "id": "0I1lhcnGT4ve"
      },
      "source": [
        "# fill in NaNs\r\n",
        "for c in X_train.columns:\r\n",
        "    if X_train[c].dtype=='float16' or  X_train[c].dtype=='float32' or  X_train[c].dtype=='float64':\r\n",
        "        X_train[c].fillna(X_train[c].mean())\r\n",
        "        X_test[c].fillna(X_train[c].mean())\r\n",
        "\r\n",
        "X_train = X_train.fillna(-999)\r\n",
        "X_test = X_test.fillna(-999)"
      ],
      "execution_count": null,
      "outputs": []
    },
    {
      "cell_type": "code",
      "metadata": {
        "id": "LzXsuEHlSNLc"
      },
      "source": [
        "# Label Encoding\r\n",
        "for f in X_train.columns:\r\n",
        "    if X_train[f].dtype=='object' or X_test[f].dtype=='object': \r\n",
        "        lbl = preprocessing.LabelEncoder()\r\n",
        "        lbl.fit(list(X_train[f].values) + list(X_test[f].values))\r\n",
        "        X_train[f] = lbl.transform(list(X_train[f].values))\r\n",
        "        X_test[f] = lbl.transform(list(X_test[f].values))  "
      ],
      "execution_count": null,
      "outputs": []
    },
    {
      "cell_type": "code",
      "metadata": {
        "colab": {
          "base_uri": "https://localhost:8080/"
        },
        "id": "_XbPmdJlWyZG",
        "outputId": "87324fc0-0f11-43c0-b4ca-89bbdfa6e2f2"
      },
      "source": [
        "!pip install bayesian-optimization"
      ],
      "execution_count": null,
      "outputs": [
        {
          "output_type": "stream",
          "text": [
            "Requirement already satisfied: bayesian-optimization in /usr/local/lib/python3.6/dist-packages (1.2.0)\n",
            "Requirement already satisfied: scikit-learn>=0.18.0 in /usr/local/lib/python3.6/dist-packages (from bayesian-optimization) (0.22.2.post1)\n",
            "Requirement already satisfied: scipy>=0.14.0 in /usr/local/lib/python3.6/dist-packages (from bayesian-optimization) (1.4.1)\n",
            "Requirement already satisfied: numpy>=1.9.0 in /usr/local/lib/python3.6/dist-packages (from bayesian-optimization) (1.19.5)\n",
            "Requirement already satisfied: joblib>=0.11 in /usr/local/lib/python3.6/dist-packages (from scikit-learn>=0.18.0->bayesian-optimization) (1.0.0)\n"
          ],
          "name": "stdout"
        }
      ]
    },
    {
      "cell_type": "code",
      "metadata": {
        "colab": {
          "base_uri": "https://localhost:8080/"
        },
        "id": "oz1BxwJuS81I",
        "outputId": "843c679c-c793-4eac-bb9d-7d4bc7b7e107"
      },
      "source": [
        "from sklearn.model_selection import cross_val_score\r\n",
        "from bayes_opt import BayesianOptimization\r\n",
        "import xgboost as xgb\r\n",
        "        \r\n",
        "X = X_train\r\n",
        "y = y_train\r\n",
        "\r\n",
        "def XGB_cv(max_depth, gamma, colsample_bytree, min_child_weight):\r\n",
        "    \r\n",
        "    model = xgb.XGBClassifier(\r\n",
        "                              use_label_encoder=False,\r\n",
        "                              tree_method = 'gpu_hist',\r\n",
        "                              predictor = 'gpu_predictor',\r\n",
        "                              metric= 'auc',\r\n",
        "\r\n",
        "                              max_depth = int(max_depth),   \r\n",
        "                              gamma=gamma,\r\n",
        "                              colsample_bytree=colsample_bytree,\r\n",
        "                              min_child_weight = int(min_child_weight))\r\n",
        "    \r\n",
        "    cval = cross_val_score(model, X, y, scoring='roc_auc', cv=5).mean()\r\n",
        "    return cval\r\n",
        "\r\n",
        "# 주어진 범위 사이에서 적절한 값을 찾는다.\r\n",
        "pbounds={\r\n",
        "    'max_depth': (7,14),\r\n",
        "    'gamma': (0, 1),\r\n",
        "    'colsample_bytree': (0.5, 1.0),\r\n",
        "    'min_child_weight' : (1, 3)      \r\n",
        "}\r\n",
        "\r\n",
        "xgboostBO = BayesianOptimization(f = XGB_cv,pbounds = pbounds, verbose = 2, random_state = 1 )\r\n",
        "\r\n",
        "xgboostBO.maximize(init_points=10, n_iter = 10)\r\n",
        "# n_iter : 수행하려는 베이지안 최적화 단계. 더 많은 단계를 거치면 더 좋은 최대치 얻음\r\n",
        "# init_points : 수행할 무작위 탐색 단계\r\n",
        "\r\n",
        "print(xgboostBO.max) # 찾은 파라미터 값 확인\r\n",
        "\r\n",
        "fit_xgb = xgb.XGBClassifier(\r\n",
        "                            max_depth= int(xgboostBO.max['params']['max_depth'] ),\r\n",
        "                            gamma= xgboostBO.max['params']['gamma'],\r\n",
        "                            colsample_bytree=xgboostBO.max['params']['colsample_bytree'],\r\n",
        "                            min_child_weight = int(xgboostBO.max['params']['min_child_weight']),\r\n",
        "\r\n",
        "                            metric= 'auc',\r\n",
        "                            use_label_encoder=False,\r\n",
        "                            tree_method = 'gpu_hist',\r\n",
        "                            predictor = 'gpu_predictor')\r\n",
        "\r\n",
        "\r\n",
        "model  = fit_xgb.fit(X, y)\r\n",
        "pred_xgb = model.predict_proba(X_test)"
      ],
      "execution_count": null,
      "outputs": [
        {
          "output_type": "stream",
          "text": [
            "|   iter    |  target   | colsam... |   gamma   | max_depth | min_ch... |\n",
            "-------------------------------------------------------------------------\n",
            "| \u001b[0m 1       \u001b[0m | \u001b[0m 0.8777  \u001b[0m | \u001b[0m 0.7085  \u001b[0m | \u001b[0m 0.7203  \u001b[0m | \u001b[0m 7.001   \u001b[0m | \u001b[0m 1.605   \u001b[0m |\n",
            "| \u001b[95m 2       \u001b[0m | \u001b[95m 0.8789  \u001b[0m | \u001b[95m 0.5734  \u001b[0m | \u001b[95m 0.09234 \u001b[0m | \u001b[95m 7.931   \u001b[0m | \u001b[95m 1.691   \u001b[0m |\n",
            "| \u001b[95m 3       \u001b[0m | \u001b[95m 0.8889  \u001b[0m | \u001b[95m 0.6984  \u001b[0m | \u001b[95m 0.5388  \u001b[0m | \u001b[95m 9.096   \u001b[0m | \u001b[95m 2.37    \u001b[0m |\n",
            "| \u001b[0m 4       \u001b[0m | \u001b[0m 0.8788  \u001b[0m | \u001b[0m 0.6022  \u001b[0m | \u001b[0m 0.8781  \u001b[0m | \u001b[0m 7.137   \u001b[0m | \u001b[0m 2.341   \u001b[0m |\n",
            "| \u001b[0m 5       \u001b[0m | \u001b[0m 0.8777  \u001b[0m | \u001b[0m 0.7087  \u001b[0m | \u001b[0m 0.5587  \u001b[0m | \u001b[0m 7.702   \u001b[0m | \u001b[0m 1.396   \u001b[0m |\n",
            "| \u001b[0m 6       \u001b[0m | \u001b[0m 0.8805  \u001b[0m | \u001b[0m 0.9004  \u001b[0m | \u001b[0m 0.9683  \u001b[0m | \u001b[0m 8.567   \u001b[0m | \u001b[0m 2.385   \u001b[0m |\n",
            "| \u001b[0m 7       \u001b[0m | \u001b[0m 0.8751  \u001b[0m | \u001b[0m 0.9382  \u001b[0m | \u001b[0m 0.8946  \u001b[0m | \u001b[0m 7.425   \u001b[0m | \u001b[0m 1.078   \u001b[0m |\n",
            "| \u001b[0m 8       \u001b[0m | \u001b[0m 0.879   \u001b[0m | \u001b[0m 0.5849  \u001b[0m | \u001b[0m 0.8781  \u001b[0m | \u001b[0m 7.492   \u001b[0m | \u001b[0m 1.842   \u001b[0m |\n",
            "| \u001b[0m 9       \u001b[0m | \u001b[0m 0.8769  \u001b[0m | \u001b[0m 0.9789  \u001b[0m | \u001b[0m 0.5332  \u001b[0m | \u001b[0m 10.46   \u001b[0m | \u001b[0m 1.631   \u001b[0m |\n",
            "| \u001b[0m 10      \u001b[0m | \u001b[0m 0.8735  \u001b[0m | \u001b[0m 0.8433  \u001b[0m | \u001b[0m 0.8346  \u001b[0m | \u001b[0m 7.091   \u001b[0m | \u001b[0m 2.5     \u001b[0m |\n",
            "| \u001b[95m 11      \u001b[0m | \u001b[95m 0.8969  \u001b[0m | \u001b[95m 0.6018  \u001b[0m | \u001b[95m 0.9192  \u001b[0m | \u001b[95m 11.93   \u001b[0m | \u001b[95m 2.969   \u001b[0m |\n",
            "| \u001b[0m 12      \u001b[0m | \u001b[0m 0.8966  \u001b[0m | \u001b[0m 0.634   \u001b[0m | \u001b[0m 0.007457\u001b[0m | \u001b[0m 11.66   \u001b[0m | \u001b[0m 2.944   \u001b[0m |\n",
            "| \u001b[0m 13      \u001b[0m | \u001b[0m 0.8939  \u001b[0m | \u001b[0m 0.5059  \u001b[0m | \u001b[0m 0.7826  \u001b[0m | \u001b[0m 10.84   \u001b[0m | \u001b[0m 2.985   \u001b[0m |\n",
            "| \u001b[0m 14      \u001b[0m | \u001b[0m 0.8728  \u001b[0m | \u001b[0m 0.9967  \u001b[0m | \u001b[0m 0.2874  \u001b[0m | \u001b[0m 11.98   \u001b[0m | \u001b[0m 2.978   \u001b[0m |\n",
            "| \u001b[95m 15      \u001b[0m | \u001b[95m 0.897   \u001b[0m | \u001b[95m 0.511   \u001b[0m | \u001b[95m 0.002706\u001b[0m | \u001b[95m 11.92   \u001b[0m | \u001b[95m 1.015   \u001b[0m |\n",
            "| \u001b[0m 16      \u001b[0m | \u001b[0m 0.896   \u001b[0m | \u001b[0m 0.5291  \u001b[0m | \u001b[0m 0.8808  \u001b[0m | \u001b[0m 11.99   \u001b[0m | \u001b[0m 1.049   \u001b[0m |\n",
            "| \u001b[0m 17      \u001b[0m | \u001b[0m 0.8957  \u001b[0m | \u001b[0m 0.5081  \u001b[0m | \u001b[0m 0.3823  \u001b[0m | \u001b[0m 11.99   \u001b[0m | \u001b[0m 2.1     \u001b[0m |\n",
            "| \u001b[0m 18      \u001b[0m | \u001b[0m 0.8917  \u001b[0m | \u001b[0m 0.5314  \u001b[0m | \u001b[0m 0.8921  \u001b[0m | \u001b[0m 9.84    \u001b[0m | \u001b[0m 1.04    \u001b[0m |\n",
            "| \u001b[0m 19      \u001b[0m | \u001b[0m 0.8909  \u001b[0m | \u001b[0m 0.5047  \u001b[0m | \u001b[0m 0.04037 \u001b[0m | \u001b[0m 9.552   \u001b[0m | \u001b[0m 2.981   \u001b[0m |\n",
            "| \u001b[95m 20      \u001b[0m | \u001b[95m 0.8982  \u001b[0m | \u001b[95m 0.5363  \u001b[0m | \u001b[95m 0.2409  \u001b[0m | \u001b[95m 11.91   \u001b[0m | \u001b[95m 2.947   \u001b[0m |\n",
            "=========================================================================\n",
            "{'target': 0.8981908463624638, 'params': {'colsample_bytree': 0.5363034369458757, 'gamma': 0.2408675804291115, 'max_depth': 11.907038563899869, 'min_child_weight': 2.947400143249704}}\n"
          ],
          "name": "stdout"
        }
      ]
    },
    {
      "cell_type": "code",
      "metadata": {
        "colab": {
          "base_uri": "https://localhost:8080/"
        },
        "id": "I6FyT3wg5a87",
        "outputId": "91d26904-8baa-4369-c79d-a409f94a1588"
      },
      "source": [
        "model.get_params"
      ],
      "execution_count": null,
      "outputs": [
        {
          "output_type": "execute_result",
          "data": {
            "text/plain": [
              "<bound method XGBModel.get_params of XGBClassifier(base_score=0.5, booster='gbtree', colsample_bylevel=1,\n",
              "              colsample_bynode=1, colsample_bytree=0.5363034369458757,\n",
              "              gamma=0.2408675804291115, learning_rate=0.1, max_delta_step=0,\n",
              "              max_depth=11, metric='auc', min_child_weight=2, missing=None,\n",
              "              n_estimators=100, n_jobs=1, nthread=None,\n",
              "              objective='binary:logistic', predictor='gpu_predictor',\n",
              "              random_state=0, reg_alpha=0, reg_lambda=1, scale_pos_weight=1,\n",
              "              seed=None, silent=None, subsample=1, tree_method='gpu_hist',\n",
              "              use_label_encoder=False, verbosity=1)>"
            ]
          },
          "metadata": {
            "tags": []
          },
          "execution_count": 27
        }
      ]
    },
    {
      "cell_type": "code",
      "metadata": {
        "colab": {
          "base_uri": "https://localhost:8080/"
        },
        "id": "PHvsCNogew4d",
        "outputId": "38da2f20-1bf8-492e-c0a0-0db4b4ac636b"
      },
      "source": [
        "sample_submission['isFraud'] = pred_xgb[:,1]\r\n",
        "sample_submission.to_csv('/content/drive/MyDrive/kaggle/ieee/xgboost_bo.csv')\r\n",
        "!kaggle competitions submit -c ieee-fraud-detection -f /content/drive/MyDrive/kaggle/ieee/xgboost_bo.csv -m \"Message\""
      ],
      "execution_count": null,
      "outputs": [
        {
          "output_type": "stream",
          "text": [
            "Warning: Looks like you're using an outdated API Version, please consider updating (server 1.5.10 / client 1.5.4)\n",
            "100% 9.78M/9.78M [00:00<00:00, 24.7MB/s]\n",
            "Successfully submitted to IEEE-CIS Fraud Detection"
          ],
          "name": "stdout"
        }
      ]
    },
    {
      "cell_type": "markdown",
      "metadata": {
        "id": "jwQ7BTwCZ24x"
      },
      "source": [
        "- 최종 스코어"
      ]
    },
    {
      "cell_type": "markdown",
      "metadata": {
        "id": "4nHLNW6jZ1cZ"
      },
      "source": [
        "![image.png](data:image/png;base64,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)"
      ]
    }
  ]
}